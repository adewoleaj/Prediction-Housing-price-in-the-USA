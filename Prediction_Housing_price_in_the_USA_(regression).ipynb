{
  "cells": [
    {
      "cell_type": "markdown",
      "metadata": {
        "id": "ylo8jeNF2ZRZ"
      },
      "source": [
        "##  Task: Using the USA_housing dataset build a model to predict the housing price and give the accuracies on both the training and test sets.\n",
        "\n",
        "## Based, on your answers, does the model overfit or underfit? If yes, how can we improve the model?\n",
        "\n",
        "\n",
        "- Hint:\n",
        "    - Explore the data:\n",
        "        - Check the dimensions\n",
        "        - Check the column names\n",
        "        - Display scatter plots of some of the features\n",
        "        - Select the features and the target to build the model, and split into training and test sets\n",
        "        - Scale the data\n",
        "        - Build a linear regression model for the data\n",
        "        - Determine if we need to regularize the model"
      ]
    },
    {
      "cell_type": "markdown",
      "metadata": {
        "id": "sQVegwSv2ZRc"
      },
      "source": [
        "### Import the required packages"
      ]
    },
    {
      "cell_type": "code",
      "execution_count": null,
      "metadata": {
        "id": "2DVSuDxZ2ZRc"
      },
      "outputs": [],
      "source": [
        "# Import necessary libraries\n",
        "import pandas as pd  # For data manipulation and analysis\n",
        "import numpy as np   # For numerical operations\n",
        "import seaborn as sns   # For statistical data visualization\n",
        "import matplotlib.pyplot as plt   # For creating plots and visualizations\n",
        "from sklearn.preprocessing import StandardScaler  # For standardization of features\n",
        "from sklearn.model_selection import train_test_split  # For splitting the data\n",
        "from sklearn.linear_model import LinearRegression  # For linear regression algorithm\n",
        "from sklearn.metrics import r2_score, mean_squared_error, mean_absolute_error  # For model evaluation metrics\n",
        "from sklearn.linear_model import Ridge  # For Ridge Regression algorithm\n",
        "from sklearn.linear_model import Lasso  # For  Lasso algorithm\n"
      ]
    },
    {
      "cell_type": "markdown",
      "metadata": {
        "id": "eLLayrKH2ZRd"
      },
      "source": [
        "### load the dataset"
      ]
    },
    {
      "cell_type": "code",
      "source": [
        "# Mount Google Drive to access files\n",
        "from google.colab import drive\n",
        "drive.mount('/content/drive')\n"
      ],
      "metadata": {
        "colab": {
          "base_uri": "https://localhost:8080/"
        },
        "id": "4k_lXuY77_Wa",
        "outputId": "9e2f613f-a0da-4e9d-8e83-13596e6aa2e5"
      },
      "execution_count": null,
      "outputs": [
        {
          "output_type": "stream",
          "name": "stdout",
          "text": [
            "Mounted at /content/drive\n"
          ]
        }
      ]
    },
    {
      "cell_type": "code",
      "execution_count": null,
      "metadata": {
        "id": "R-MtLYgG2ZRd"
      },
      "outputs": [],
      "source": [
        "# Read the CSV file into a pandas DataFrame\n",
        "df = pd.read_csv('/content/drive/MyDrive/data science /hull online/Ailead/ML /supervise learning /USA_Housing.csv')\n"
      ]
    },
    {
      "cell_type": "code",
      "execution_count": null,
      "metadata": {
        "colab": {
          "base_uri": "https://localhost:8080/",
          "height": 275
        },
        "id": "hOJeu6pI2ZRd",
        "outputId": "5b95e0d4-423f-457d-fcff-00b98ae869d3"
      },
      "outputs": [
        {
          "output_type": "execute_result",
          "data": {
            "text/plain": [
              "   Avg. Area Income  Avg. Area House Age  Avg. Area Number of Rooms  \\\n",
              "0      79545.458574             5.682861                   7.009188   \n",
              "1      79248.642455             6.002900                   6.730821   \n",
              "2      61287.067179             5.865890                   8.512727   \n",
              "3      63345.240046             7.188236                   5.586729   \n",
              "4      59982.197226             5.040555                   7.839388   \n",
              "\n",
              "   Avg. Area Number of Bedrooms  Area Population         Price  \\\n",
              "0                          4.09     23086.800503  1.059034e+06   \n",
              "1                          3.09     40173.072174  1.505891e+06   \n",
              "2                          5.13     36882.159400  1.058988e+06   \n",
              "3                          3.26     34310.242831  1.260617e+06   \n",
              "4                          4.23     26354.109472  6.309435e+05   \n",
              "\n",
              "                                             Address  \n",
              "0  208 Michael Ferry Apt. 674\\nLaurabury, NE 3701...  \n",
              "1  188 Johnson Views Suite 079\\nLake Kathleen, CA...  \n",
              "2  9127 Elizabeth Stravenue\\nDanieltown, WI 06482...  \n",
              "3                          USS Barnett\\nFPO AP 44820  \n",
              "4                         USNS Raymond\\nFPO AE 09386  "
            ],
            "text/html": [
              "\n",
              "  <div id=\"df-3bd86aa0-ef7e-4ae6-bf7e-914138f29652\" class=\"colab-df-container\">\n",
              "    <div>\n",
              "<style scoped>\n",
              "    .dataframe tbody tr th:only-of-type {\n",
              "        vertical-align: middle;\n",
              "    }\n",
              "\n",
              "    .dataframe tbody tr th {\n",
              "        vertical-align: top;\n",
              "    }\n",
              "\n",
              "    .dataframe thead th {\n",
              "        text-align: right;\n",
              "    }\n",
              "</style>\n",
              "<table border=\"1\" class=\"dataframe\">\n",
              "  <thead>\n",
              "    <tr style=\"text-align: right;\">\n",
              "      <th></th>\n",
              "      <th>Avg. Area Income</th>\n",
              "      <th>Avg. Area House Age</th>\n",
              "      <th>Avg. Area Number of Rooms</th>\n",
              "      <th>Avg. Area Number of Bedrooms</th>\n",
              "      <th>Area Population</th>\n",
              "      <th>Price</th>\n",
              "      <th>Address</th>\n",
              "    </tr>\n",
              "  </thead>\n",
              "  <tbody>\n",
              "    <tr>\n",
              "      <th>0</th>\n",
              "      <td>79545.458574</td>\n",
              "      <td>5.682861</td>\n",
              "      <td>7.009188</td>\n",
              "      <td>4.09</td>\n",
              "      <td>23086.800503</td>\n",
              "      <td>1.059034e+06</td>\n",
              "      <td>208 Michael Ferry Apt. 674\\nLaurabury, NE 3701...</td>\n",
              "    </tr>\n",
              "    <tr>\n",
              "      <th>1</th>\n",
              "      <td>79248.642455</td>\n",
              "      <td>6.002900</td>\n",
              "      <td>6.730821</td>\n",
              "      <td>3.09</td>\n",
              "      <td>40173.072174</td>\n",
              "      <td>1.505891e+06</td>\n",
              "      <td>188 Johnson Views Suite 079\\nLake Kathleen, CA...</td>\n",
              "    </tr>\n",
              "    <tr>\n",
              "      <th>2</th>\n",
              "      <td>61287.067179</td>\n",
              "      <td>5.865890</td>\n",
              "      <td>8.512727</td>\n",
              "      <td>5.13</td>\n",
              "      <td>36882.159400</td>\n",
              "      <td>1.058988e+06</td>\n",
              "      <td>9127 Elizabeth Stravenue\\nDanieltown, WI 06482...</td>\n",
              "    </tr>\n",
              "    <tr>\n",
              "      <th>3</th>\n",
              "      <td>63345.240046</td>\n",
              "      <td>7.188236</td>\n",
              "      <td>5.586729</td>\n",
              "      <td>3.26</td>\n",
              "      <td>34310.242831</td>\n",
              "      <td>1.260617e+06</td>\n",
              "      <td>USS Barnett\\nFPO AP 44820</td>\n",
              "    </tr>\n",
              "    <tr>\n",
              "      <th>4</th>\n",
              "      <td>59982.197226</td>\n",
              "      <td>5.040555</td>\n",
              "      <td>7.839388</td>\n",
              "      <td>4.23</td>\n",
              "      <td>26354.109472</td>\n",
              "      <td>6.309435e+05</td>\n",
              "      <td>USNS Raymond\\nFPO AE 09386</td>\n",
              "    </tr>\n",
              "  </tbody>\n",
              "</table>\n",
              "</div>\n",
              "    <div class=\"colab-df-buttons\">\n",
              "\n",
              "  <div class=\"colab-df-container\">\n",
              "    <button class=\"colab-df-convert\" onclick=\"convertToInteractive('df-3bd86aa0-ef7e-4ae6-bf7e-914138f29652')\"\n",
              "            title=\"Convert this dataframe to an interactive table.\"\n",
              "            style=\"display:none;\">\n",
              "\n",
              "  <svg xmlns=\"http://www.w3.org/2000/svg\" height=\"24px\" viewBox=\"0 -960 960 960\">\n",
              "    <path d=\"M120-120v-720h720v720H120Zm60-500h600v-160H180v160Zm220 220h160v-160H400v160Zm0 220h160v-160H400v160ZM180-400h160v-160H180v160Zm440 0h160v-160H620v160ZM180-180h160v-160H180v160Zm440 0h160v-160H620v160Z\"/>\n",
              "  </svg>\n",
              "    </button>\n",
              "\n",
              "  <style>\n",
              "    .colab-df-container {\n",
              "      display:flex;\n",
              "      gap: 12px;\n",
              "    }\n",
              "\n",
              "    .colab-df-convert {\n",
              "      background-color: #E8F0FE;\n",
              "      border: none;\n",
              "      border-radius: 50%;\n",
              "      cursor: pointer;\n",
              "      display: none;\n",
              "      fill: #1967D2;\n",
              "      height: 32px;\n",
              "      padding: 0 0 0 0;\n",
              "      width: 32px;\n",
              "    }\n",
              "\n",
              "    .colab-df-convert:hover {\n",
              "      background-color: #E2EBFA;\n",
              "      box-shadow: 0px 1px 2px rgba(60, 64, 67, 0.3), 0px 1px 3px 1px rgba(60, 64, 67, 0.15);\n",
              "      fill: #174EA6;\n",
              "    }\n",
              "\n",
              "    .colab-df-buttons div {\n",
              "      margin-bottom: 4px;\n",
              "    }\n",
              "\n",
              "    [theme=dark] .colab-df-convert {\n",
              "      background-color: #3B4455;\n",
              "      fill: #D2E3FC;\n",
              "    }\n",
              "\n",
              "    [theme=dark] .colab-df-convert:hover {\n",
              "      background-color: #434B5C;\n",
              "      box-shadow: 0px 1px 3px 1px rgba(0, 0, 0, 0.15);\n",
              "      filter: drop-shadow(0px 1px 2px rgba(0, 0, 0, 0.3));\n",
              "      fill: #FFFFFF;\n",
              "    }\n",
              "  </style>\n",
              "\n",
              "    <script>\n",
              "      const buttonEl =\n",
              "        document.querySelector('#df-3bd86aa0-ef7e-4ae6-bf7e-914138f29652 button.colab-df-convert');\n",
              "      buttonEl.style.display =\n",
              "        google.colab.kernel.accessAllowed ? 'block' : 'none';\n",
              "\n",
              "      async function convertToInteractive(key) {\n",
              "        const element = document.querySelector('#df-3bd86aa0-ef7e-4ae6-bf7e-914138f29652');\n",
              "        const dataTable =\n",
              "          await google.colab.kernel.invokeFunction('convertToInteractive',\n",
              "                                                    [key], {});\n",
              "        if (!dataTable) return;\n",
              "\n",
              "        const docLinkHtml = 'Like what you see? Visit the ' +\n",
              "          '<a target=\"_blank\" href=https://colab.research.google.com/notebooks/data_table.ipynb>data table notebook</a>'\n",
              "          + ' to learn more about interactive tables.';\n",
              "        element.innerHTML = '';\n",
              "        dataTable['output_type'] = 'display_data';\n",
              "        await google.colab.output.renderOutput(dataTable, element);\n",
              "        const docLink = document.createElement('div');\n",
              "        docLink.innerHTML = docLinkHtml;\n",
              "        element.appendChild(docLink);\n",
              "      }\n",
              "    </script>\n",
              "  </div>\n",
              "\n",
              "\n",
              "<div id=\"df-4fdb3691-1c57-4efb-a9d5-f8c1327748e4\">\n",
              "  <button class=\"colab-df-quickchart\" onclick=\"quickchart('df-4fdb3691-1c57-4efb-a9d5-f8c1327748e4')\"\n",
              "            title=\"Suggest charts\"\n",
              "            style=\"display:none;\">\n",
              "\n",
              "<svg xmlns=\"http://www.w3.org/2000/svg\" height=\"24px\"viewBox=\"0 0 24 24\"\n",
              "     width=\"24px\">\n",
              "    <g>\n",
              "        <path d=\"M19 3H5c-1.1 0-2 .9-2 2v14c0 1.1.9 2 2 2h14c1.1 0 2-.9 2-2V5c0-1.1-.9-2-2-2zM9 17H7v-7h2v7zm4 0h-2V7h2v10zm4 0h-2v-4h2v4z\"/>\n",
              "    </g>\n",
              "</svg>\n",
              "  </button>\n",
              "\n",
              "<style>\n",
              "  .colab-df-quickchart {\n",
              "      --bg-color: #E8F0FE;\n",
              "      --fill-color: #1967D2;\n",
              "      --hover-bg-color: #E2EBFA;\n",
              "      --hover-fill-color: #174EA6;\n",
              "      --disabled-fill-color: #AAA;\n",
              "      --disabled-bg-color: #DDD;\n",
              "  }\n",
              "\n",
              "  [theme=dark] .colab-df-quickchart {\n",
              "      --bg-color: #3B4455;\n",
              "      --fill-color: #D2E3FC;\n",
              "      --hover-bg-color: #434B5C;\n",
              "      --hover-fill-color: #FFFFFF;\n",
              "      --disabled-bg-color: #3B4455;\n",
              "      --disabled-fill-color: #666;\n",
              "  }\n",
              "\n",
              "  .colab-df-quickchart {\n",
              "    background-color: var(--bg-color);\n",
              "    border: none;\n",
              "    border-radius: 50%;\n",
              "    cursor: pointer;\n",
              "    display: none;\n",
              "    fill: var(--fill-color);\n",
              "    height: 32px;\n",
              "    padding: 0;\n",
              "    width: 32px;\n",
              "  }\n",
              "\n",
              "  .colab-df-quickchart:hover {\n",
              "    background-color: var(--hover-bg-color);\n",
              "    box-shadow: 0 1px 2px rgba(60, 64, 67, 0.3), 0 1px 3px 1px rgba(60, 64, 67, 0.15);\n",
              "    fill: var(--button-hover-fill-color);\n",
              "  }\n",
              "\n",
              "  .colab-df-quickchart-complete:disabled,\n",
              "  .colab-df-quickchart-complete:disabled:hover {\n",
              "    background-color: var(--disabled-bg-color);\n",
              "    fill: var(--disabled-fill-color);\n",
              "    box-shadow: none;\n",
              "  }\n",
              "\n",
              "  .colab-df-spinner {\n",
              "    border: 2px solid var(--fill-color);\n",
              "    border-color: transparent;\n",
              "    border-bottom-color: var(--fill-color);\n",
              "    animation:\n",
              "      spin 1s steps(1) infinite;\n",
              "  }\n",
              "\n",
              "  @keyframes spin {\n",
              "    0% {\n",
              "      border-color: transparent;\n",
              "      border-bottom-color: var(--fill-color);\n",
              "      border-left-color: var(--fill-color);\n",
              "    }\n",
              "    20% {\n",
              "      border-color: transparent;\n",
              "      border-left-color: var(--fill-color);\n",
              "      border-top-color: var(--fill-color);\n",
              "    }\n",
              "    30% {\n",
              "      border-color: transparent;\n",
              "      border-left-color: var(--fill-color);\n",
              "      border-top-color: var(--fill-color);\n",
              "      border-right-color: var(--fill-color);\n",
              "    }\n",
              "    40% {\n",
              "      border-color: transparent;\n",
              "      border-right-color: var(--fill-color);\n",
              "      border-top-color: var(--fill-color);\n",
              "    }\n",
              "    60% {\n",
              "      border-color: transparent;\n",
              "      border-right-color: var(--fill-color);\n",
              "    }\n",
              "    80% {\n",
              "      border-color: transparent;\n",
              "      border-right-color: var(--fill-color);\n",
              "      border-bottom-color: var(--fill-color);\n",
              "    }\n",
              "    90% {\n",
              "      border-color: transparent;\n",
              "      border-bottom-color: var(--fill-color);\n",
              "    }\n",
              "  }\n",
              "</style>\n",
              "\n",
              "  <script>\n",
              "    async function quickchart(key) {\n",
              "      const quickchartButtonEl =\n",
              "        document.querySelector('#' + key + ' button');\n",
              "      quickchartButtonEl.disabled = true;  // To prevent multiple clicks.\n",
              "      quickchartButtonEl.classList.add('colab-df-spinner');\n",
              "      try {\n",
              "        const charts = await google.colab.kernel.invokeFunction(\n",
              "            'suggestCharts', [key], {});\n",
              "      } catch (error) {\n",
              "        console.error('Error during call to suggestCharts:', error);\n",
              "      }\n",
              "      quickchartButtonEl.classList.remove('colab-df-spinner');\n",
              "      quickchartButtonEl.classList.add('colab-df-quickchart-complete');\n",
              "    }\n",
              "    (() => {\n",
              "      let quickchartButtonEl =\n",
              "        document.querySelector('#df-4fdb3691-1c57-4efb-a9d5-f8c1327748e4 button');\n",
              "      quickchartButtonEl.style.display =\n",
              "        google.colab.kernel.accessAllowed ? 'block' : 'none';\n",
              "    })();\n",
              "  </script>\n",
              "</div>\n",
              "    </div>\n",
              "  </div>\n"
            ]
          },
          "metadata": {},
          "execution_count": 4
        }
      ],
      "source": [
        "# view the data set\n",
        "df.head()"
      ]
    },
    {
      "cell_type": "code",
      "execution_count": null,
      "metadata": {
        "colab": {
          "base_uri": "https://localhost:8080/"
        },
        "id": "KUIh6PHx2ZRd",
        "outputId": "f97a1c78-45ee-4c40-d2bc-baa162cdb52b"
      },
      "outputs": [
        {
          "output_type": "execute_result",
          "data": {
            "text/plain": [
              "Index(['Avg. Area Income', 'Avg. Area House Age', 'Avg. Area Number of Rooms',\n",
              "       'Avg. Area Number of Bedrooms', 'Area Population', 'Price', 'Address'],\n",
              "      dtype='object')"
            ]
          },
          "metadata": {},
          "execution_count": 5
        }
      ],
      "source": [
        "# let view the columns in our model\n",
        "df.columns"
      ]
    },
    {
      "cell_type": "code",
      "execution_count": null,
      "metadata": {
        "id": "GhwXdr7g2ZRd"
      },
      "outputs": [],
      "source": [
        "# rename the columns to avoid mistake\n",
        "df.columns=df.columns.str.replace(\" \",\"_\")"
      ]
    },
    {
      "cell_type": "markdown",
      "metadata": {
        "id": "8u-BpDxA2ZRd"
      },
      "source": [
        "## Explore the dataset"
      ]
    },
    {
      "cell_type": "code",
      "source": [
        "# check the dimensions of the data\n",
        "df.shape\n"
      ],
      "metadata": {
        "colab": {
          "base_uri": "https://localhost:8080/"
        },
        "id": "HY7SHPtW9OD7",
        "outputId": "276f35e1-354c-41e0-af2d-ced2477fe8ac"
      },
      "execution_count": null,
      "outputs": [
        {
          "output_type": "execute_result",
          "data": {
            "text/plain": [
              "(5000, 7)"
            ]
          },
          "metadata": {},
          "execution_count": 7
        }
      ]
    },
    {
      "cell_type": "code",
      "source": [
        "# checking the data propertise\n",
        "df.info()"
      ],
      "metadata": {
        "colab": {
          "base_uri": "https://localhost:8080/"
        },
        "id": "L-T0CryU9UBF",
        "outputId": "8a755024-73f9-4f9a-9bf8-6bc478a99010"
      },
      "execution_count": null,
      "outputs": [
        {
          "output_type": "stream",
          "name": "stdout",
          "text": [
            "<class 'pandas.core.frame.DataFrame'>\n",
            "RangeIndex: 5000 entries, 0 to 4999\n",
            "Data columns (total 7 columns):\n",
            " #   Column                        Non-Null Count  Dtype  \n",
            "---  ------                        --------------  -----  \n",
            " 0   Avg._Area_Income              5000 non-null   float64\n",
            " 1   Avg._Area_House_Age           5000 non-null   float64\n",
            " 2   Avg._Area_Number_of_Rooms     5000 non-null   float64\n",
            " 3   Avg._Area_Number_of_Bedrooms  5000 non-null   float64\n",
            " 4   Area_Population               5000 non-null   float64\n",
            " 5   Price                         5000 non-null   float64\n",
            " 6   Address                       5000 non-null   object \n",
            "dtypes: float64(6), object(1)\n",
            "memory usage: 273.6+ KB\n"
          ]
        }
      ]
    },
    {
      "cell_type": "markdown",
      "source": [
        "- The output represents a pandas DataFrame with 5000 entries and 7 columns. Each column contains non-null values, indicating that there are no missing values in the dataset. The columns include numerical data types (float64) for features such as average area income, house age, number of rooms, number of bedrooms, area population, and price. Additionally, there is one column of object type, likely representing textual data such as addresses. T. This summary provides an overview of the structure and content of the dataset, indicating it is ready for further analysis or processing.\n",
        "\n",
        "\n",
        "\n",
        "\n",
        "\n"
      ],
      "metadata": {
        "id": "LekYRzEGwPrH"
      }
    },
    {
      "cell_type": "code",
      "source": [
        "# check for missing values\n",
        "df.isnull().sum()"
      ],
      "metadata": {
        "colab": {
          "base_uri": "https://localhost:8080/"
        },
        "id": "y6PPK-9I9asY",
        "outputId": "457b2d7b-3001-4b1a-bfe2-6ee8fc982cd1"
      },
      "execution_count": null,
      "outputs": [
        {
          "output_type": "execute_result",
          "data": {
            "text/plain": [
              "Avg._Area_Income                0\n",
              "Avg._Area_House_Age             0\n",
              "Avg._Area_Number_of_Rooms       0\n",
              "Avg._Area_Number_of_Bedrooms    0\n",
              "Area_Population                 0\n",
              "Price                           0\n",
              "Address                         0\n",
              "dtype: int64"
            ]
          },
          "metadata": {},
          "execution_count": 9
        }
      ]
    },
    {
      "cell_type": "markdown",
      "source": [
        "- there is no missiing values in ourdata"
      ],
      "metadata": {
        "id": "8nESa0Azv_4Y"
      }
    },
    {
      "cell_type": "markdown",
      "source": [
        "###  check for correction\n",
        "\n",
        "** Key factores **\n",
        "- high correlation btw  the feature lead to mulitco linearity (to prevent this - lasso and reg regressor help to reduce the impart of highly correlated features)\n",
        "- we dont want 60 - 70% correlation between the variables"
      ],
      "metadata": {
        "id": "-GZU-psywfBm"
      }
    },
    {
      "cell_type": "code",
      "execution_count": null,
      "metadata": {
        "colab": {
          "base_uri": "https://localhost:8080/",
          "height": 683
        },
        "id": "oj_XCP3x2ZRd",
        "outputId": "16175a9c-8206-4373-9ff2-777b4d6f1610"
      },
      "outputs": [
        {
          "output_type": "execute_result",
          "data": {
            "text/plain": [
              "<Axes: >"
            ]
          },
          "metadata": {},
          "execution_count": 10
        },
        {
          "output_type": "display_data",
          "data": {
            "text/plain": [
              "<Figure size 800x500 with 2 Axes>"
            ],
            "image/png": "[encoded data removed]"
          },
          "metadata": {}
        }
      ],
      "source": [
        "# Check for correlation among numerical features\n",
        "num_feat = df.select_dtypes(include=\"number\")  # Select numerical features from the DataFrame\n",
        "\n",
        "# Compute the correlation matrix\n",
        "mat_corr = num_feat.corr()\n",
        "\n",
        "# Plot a heatmap to visualize the correlation matrix\n",
        "plt.figure(figsize=(8, 5))\n",
        "sns.heatmap(mat_corr, vmin=-1, vmax=1, annot=True, cmap='Spectral')  # Display correlations with color bar between -1 and 1\n"
      ]
    },
    {
      "cell_type": "markdown",
      "source": [
        "**Based on the correlation matrix**:\n",
        "\n",
        "*High Correlation:*\n",
        "\n",
        "- The highest correlation exists between \"Avg. Area Income\" and \"Price\" with a correlation coefficient of 0.639734, indicating a strong positive correlation. This suggests that as the average area income increases, the house price tends to increase as well.\n",
        "Another notable correlation is between \"Avg. Area House Age\" and \"Price\" with a coefficient of 0.452543, indicating a moderate positive correlation. This suggests that older houses tend to have lower prices.\n",
        "\n",
        "*Low Correlation:*\n",
        "\n",
        "- There is relatively low correlation between \"Avg. Area Number of Bedrooms\" and \"Price\" with a coefficient of 0.171071, indicating a weak positive correlation. This suggests that the number of bedrooms may not significantly influence the house price.\n",
        "Similarly, the correlation between \"Area Population\" and \"Price\" is relatively low with a coefficient of 0.408556, suggesting a moderate positive correlation. This indicates that the population of the area may have some impact on house prices, but it's not very strong.\n",
        "\n",
        "*Multicollinearity:*\n",
        "\n",
        "- Multicollinearity refers to the situation where independent variables in a regression model are highly correlated. From the correlation matrix, there are no extremely high correlations between independent variables (features), indicating no severe issue of multicollinearity. However, there is a moderate correlation between \"Avg. Area Number of Rooms\" and \"Avg. Area Number of Bedrooms\" with a coefficient of 0.462695. This correlation suggests some degree of multicollinearity between these two features, which might affect the stability and interpretability of regression coefficients in a multiple regression model. Therefore, caution should be exercised when interpreting the coefficients of these variables in a regression analysis.\n",
        "\n",
        "\n",
        "\n",
        "\n"
      ],
      "metadata": {
        "id": "DgBHbSf8yAGn"
      }
    },
    {
      "cell_type": "markdown",
      "metadata": {
        "id": "-Swbglo62ZRd"
      },
      "source": [
        "## Select the features needed for building the models"
      ]
    },
    {
      "cell_type": "code",
      "source": [
        "# Define features (X) and target variable (y)\n",
        "X = num_feat.drop(\"Price\", axis=1)  # Features excluding the target variable \"Price\"\n",
        "y = num_feat[\"Price\"]  # Target variable \"Price\"\n"
      ],
      "metadata": {
        "id": "W4LQYZkGApTN"
      },
      "execution_count": null,
      "outputs": []
    },
    {
      "cell_type": "markdown",
      "metadata": {
        "id": "v59NMeW42ZRe"
      },
      "source": [
        "## Splitting the data into training and test set\n",
        "- The essence of building a model is to use it to make predictions on new and unseen data. Hence, there is the need to split the\n",
        "data into training and validation/test set, so we can build the model with the training set and validate with the test set."
      ]
    },
    {
      "cell_type": "code",
      "execution_count": null,
      "metadata": {
        "id": "tgOfULYs2ZRe"
      },
      "outputs": [],
      "source": [
        "# split the data\n",
        "\n",
        "x_train, x_test, y_train, y_test = train_test_split(X,y, test_size=0.2,random_state=0)\n"
      ]
    },
    {
      "cell_type": "code",
      "execution_count": null,
      "metadata": {
        "id": "eY-KT7-i2ZRe",
        "colab": {
          "base_uri": "https://localhost:8080/"
        },
        "outputId": "0d10e0ca-7a7f-4a79-87f5-daf8903c5050"
      },
      "outputs": [
        {
          "output_type": "execute_result",
          "data": {
            "text/plain": [
              "(4000, 5)"
            ]
          },
          "metadata": {},
          "execution_count": 13
        }
      ],
      "source": [
        "# check the dimension of the train and test data\n",
        "\n",
        "x_train.shape"
      ]
    },
    {
      "cell_type": "code",
      "execution_count": null,
      "metadata": {
        "id": "fjOThSrI2ZRe",
        "colab": {
          "base_uri": "https://localhost:8080/"
        },
        "outputId": "d6ce9d7b-4de1-4f72-a588-25496c36c2b2"
      },
      "outputs": [
        {
          "output_type": "execute_result",
          "data": {
            "text/plain": [
              "(1000, 5)"
            ]
          },
          "metadata": {},
          "execution_count": 18
        }
      ],
      "source": [
        "x_test.shape"
      ]
    },
    {
      "cell_type": "markdown",
      "metadata": {
        "id": "S4lgmaWk2ZRe"
      },
      "source": [
        "## Normalize or Standardize the training and test data"
      ]
    },
    {
      "cell_type": "code",
      "execution_count": null,
      "metadata": {
        "id": "WddhcLBX2ZRe"
      },
      "outputs": [],
      "source": [
        "# instantiate of standardscaler\n",
        "\n",
        "scaler = StandardScaler()\n",
        "\n",
        "x_train_sd = scaler.fit_transform(x_train)\n",
        "x_test_sd = scaler.transform(x_test)"
      ]
    },
    {
      "cell_type": "markdown",
      "metadata": {
        "id": "wn_A-X1c2ZRb"
      },
      "source": [
        "## Linear Models\n",
        "- Linear models are a class of models that are widely used in practice. Linear models are models that make a prediction using a linear function of the\n",
        "input features.\n",
        "\\begin{align*}\n",
        "\\hat{y} = w[0] x[0] + w[1] x[1] + \\dotsc + w[p] x[p] + b  \\text{   (1) linear regression}\n",
        "\\end{align*}\n",
        "\n",
        "- Here, $x[0]$ to $x[p]$ denotes the features (here the number of features is $p$) of a\n",
        "single data point, $w$ and $b$ are parameters of the model that are learned, and $\n",
        "\\hat{y}$ is the prediction the model makes.\n",
        "\n",
        "- Trying to learn the $w[0]$ and $b$ on a one-dimensional data set, might lead to the following:\n",
        "    ![lr_image.PNG](attachment:lr_image.PNG)"
      ]
    },
    {
      "cell_type": "markdown",
      "metadata": {
        "id": "khrYXIbA2ZRb"
      },
      "source": [
        "## Linear Regression\n",
        "- Linear regression or Ordinary Least Squares (OLS) is the simplest and most classic linear method for regression.\n",
        "Linear regression finds the parameters $w$ and $b$ that minimize the mean squared\n",
        "error between predictions and the true regression targets $y$ on the training set. The\n",
        "mean squared error is the sum of the squared differences between the predictions and\n",
        "the true values."
      ]
    },
    {
      "cell_type": "markdown",
      "metadata": {
        "id": "mnhu7YNz2ZRf"
      },
      "source": [
        "## Fitting the Linear Regression Model"
      ]
    },
    {
      "cell_type": "code",
      "execution_count": null,
      "metadata": {
        "id": "dtFVPf4f2ZRf",
        "colab": {
          "base_uri": "https://localhost:8080/"
        },
        "outputId": "e43c2cd6-8690-43ef-924f-9074f3b98c84"
      },
      "outputs": [
        {
          "output_type": "stream",
          "name": "stdout",
          "text": [
            "coefficent: [231157.00897521 165326.83179735 121524.25417557   2697.0066375\n",
            " 151236.17132081]\n",
            "intercept: 1231911.4527395861\n"
          ]
        }
      ],
      "source": [
        "# Instantiate the Linear Regression algorithm\n",
        "lin_reg = LinearRegression()  # Create an instance of LinearRegression model\n",
        "\n",
        "# Fit the model to the training data\n",
        "lin_reg.fit(x_train_sd, y_train)  # Train the model using standardized features (x_train_sd) and target variable (y_train)\n",
        "\n",
        "# Get the coefficients (weights) and intercept (bias/offset) values\n",
        "coefficent = lin_reg.coef_  # Coefficients of the features\n",
        "intercept = lin_reg.intercept_  # Intercept value of the model\n",
        "\n",
        "# Print the coefficients and intercept\n",
        "print(\"coefficent:\", coefficent)\n",
        "print(\"intercept:\", intercept)\n"
      ]
    },
    {
      "cell_type": "markdown",
      "source": [
        "**The coefficients and intercept obtained from the Linear Regression model can be interpreted as follows:**\n",
        "\n",
        "*Coefficients:*\n",
        "\n",
        "The coefficient values represent the change in the predicted house price for a one-unit change in each respective feature, holding all other features constant.\n",
        "\n",
        "For example:\n",
        "\n",
        "- A one-unit increase in \"Avg. Area Income\" is associated with an increase in the predicted house price by $231,157.01.\n",
        "\n",
        "- A one-unit increase in \"Avg. Area House Age\" is associated with an increase in the predicted house price by $165,326.83.\n",
        "\n",
        "- A one-unit increase in \"Avg. Area Number of Rooms\" is associated with an increase in the predicted house price by $121,524.25.\n",
        "\n",
        "- A one-unit increase in \"Avg. Area Number of Bedrooms\" is associated with an increase in the predicted house price by $2,697.01.\n",
        "\n",
        "- A one-unit increase in \"Area Population\" is associated with an increase in the predicted house price by $151,236.17.\n",
        "\n",
        "*Intercept:*\n",
        "\n",
        "The intercept represents the base price of a house when all other features are zero. It is the predicted price of a house with no influence from any of the features.\n",
        "\n",
        "- In this case, the intercept value is 1,231,911.45 dollars. This means that if all other factors are zero (which might not be practically meaningful), the predicted house price would start at approximately 1.23 million dollars.\n",
        "\n",
        "These coefficients and intercept allow us to construct the linear regression equation to predict house prices based on the values of the input features."
      ],
      "metadata": {
        "id": "Uc0ES-Vp0Rxp"
      }
    },
    {
      "cell_type": "markdown",
      "metadata": {
        "id": "cdUVDuPb2ZRf"
      },
      "source": [
        "## Model Performance Check\n",
        "- Model performance check\n",
        "- We will be using metric functions defined in sklearn for RMSE, MAE, and R2.\n",
        "\n",
        "- We will define functions to calculate adjusted R2.\n",
        "\n",
        "- The adjuted R2 penalizes the regression model for adding unimportant features.\n",
        "- We will create a function that will print out all the above metrics in one go."
      ]
    },
    {
      "cell_type": "markdown",
      "source": [
        "### Utility Funtion to evaluate the performance of the model"
      ],
      "metadata": {
        "id": "bUVpDV0L1o1q"
      }
    },
    {
      "cell_type": "code",
      "execution_count": null,
      "metadata": {
        "id": "cX7lhUfc2ZRf"
      },
      "outputs": [],
      "source": [
        "# Function to compute adjusted R-squared\n",
        "def adj_r2_score(predictors, targets, predictions):\n",
        "    \"\"\"\n",
        "    Calculate adjusted R-squared.\n",
        "\n",
        "    Parameters:\n",
        "    predictors: Independent variables\n",
        "    targets: Dependent variable\n",
        "    predictions: Predicted values\n",
        "\n",
        "    Returns:\n",
        "    Adjusted R-squared score\n",
        "    \"\"\"\n",
        "    r2 = r2_score(targets, predictions)\n",
        "    n = predictors.shape[0]\n",
        "    k = predictors.shape[1]\n",
        "    return 1 - ((1 - r2) * (n - 1) / (n - k - 1))\n",
        "\n",
        "\n",
        "# Function to compute MAPE\n",
        "def mape_score(targets, predictions):\n",
        "    \"\"\"\n",
        "    Calculate Mean Absolute Percentage Error (MAPE).\n",
        "\n",
        "    Parameters:\n",
        "    targets: Actual target values\n",
        "    predictions: Predicted values\n",
        "\n",
        "    Returns:\n",
        "    MAPE score\n",
        "    \"\"\"\n",
        "    return np.mean(np.abs(targets - predictions) / targets) * 100\n",
        "\n",
        "\n",
        "# Function to compute different metrics to check performance of a regression model\n",
        "def model_performance_regression(model, predictors, target):\n",
        "    \"\"\"\n",
        "    Compute different metrics to check regression model performance.\n",
        "\n",
        "    Parameters:\n",
        "    model: Regressor model\n",
        "    predictors: Independent variables\n",
        "    target: Dependent variable\n",
        "\n",
        "    Returns:\n",
        "    DataFrame containing various performance metrics\n",
        "    \"\"\"\n",
        "\n",
        "    # Predict using the independent variables\n",
        "    pred = model.predict(predictors)\n",
        "\n",
        "    # Compute performance metrics\n",
        "    r2 = r2_score(target, pred)  # R-squared\n",
        "    adjr2 = adj_r2_score(predictors, target, pred)  # Adjusted R-squared\n",
        "    rmse = np.sqrt(mean_squared_error(target, pred))  # Root Mean Squared Error (RMSE)\n",
        "    mae = mean_absolute_error(target, pred)  # Mean Absolute Error (MAE)\n",
        "    mape = mape_score(target, pred)  # Mean Absolute Percentage Error (MAPE)\n",
        "    mse = mean_squared_error(target, pred)  # Mean Squared Error (MSE)\n",
        "\n",
        "    # Create a DataFrame of metrics\n",
        "    df_perf = pd.DataFrame(\n",
        "        {\n",
        "            \"MSE\": mse,\n",
        "            \"RMSE\": rmse,\n",
        "            \"MAE\": mae,\n",
        "            \"R-squared\": r2,\n",
        "            \"Adj. R-squared\": adjr2,\n",
        "            \"MAPE\": mape,\n",
        "        },\n",
        "        index=[0],\n",
        "    )\n",
        "\n",
        "    return df_perf\n"
      ]
    },
    {
      "cell_type": "markdown",
      "metadata": {
        "id": "CND6cPGQ2ZRf"
      },
      "source": [
        "### Checking model performance on training set"
      ]
    },
    {
      "cell_type": "code",
      "execution_count": null,
      "metadata": {
        "id": "De1TcA6l2ZRf",
        "colab": {
          "base_uri": "https://localhost:8080/",
          "height": 81
        },
        "outputId": "e6e536ff-c2e2-4bd5-daa1-399f86e4171e"
      },
      "outputs": [
        {
          "output_type": "execute_result",
          "data": {
            "text/plain": [
              "            MSE           RMSE           MAE  R-squared  Adj. R-squared  \\\n",
              "0  1.013963e+10  100695.751773  81040.871388    0.91884        0.918739   \n",
              "\n",
              "       MAPE  \n",
              "0  7.648814  "
            ],
            "text/html": [
              "\n",
              "  <div id=\"df-7703ae1e-a0ab-4927-8e70-d49b8daa6758\" class=\"colab-df-container\">\n",
              "    <div>\n",
              "<style scoped>\n",
              "    .dataframe tbody tr th:only-of-type {\n",
              "        vertical-align: middle;\n",
              "    }\n",
              "\n",
              "    .dataframe tbody tr th {\n",
              "        vertical-align: top;\n",
              "    }\n",
              "\n",
              "    .dataframe thead th {\n",
              "        text-align: right;\n",
              "    }\n",
              "</style>\n",
              "<table border=\"1\" class=\"dataframe\">\n",
              "  <thead>\n",
              "    <tr style=\"text-align: right;\">\n",
              "      <th></th>\n",
              "      <th>MSE</th>\n",
              "      <th>RMSE</th>\n",
              "      <th>MAE</th>\n",
              "      <th>R-squared</th>\n",
              "      <th>Adj. R-squared</th>\n",
              "      <th>MAPE</th>\n",
              "    </tr>\n",
              "  </thead>\n",
              "  <tbody>\n",
              "    <tr>\n",
              "      <th>0</th>\n",
              "      <td>1.013963e+10</td>\n",
              "      <td>100695.751773</td>\n",
              "      <td>81040.871388</td>\n",
              "      <td>0.91884</td>\n",
              "      <td>0.918739</td>\n",
              "      <td>7.648814</td>\n",
              "    </tr>\n",
              "  </tbody>\n",
              "</table>\n",
              "</div>\n",
              "    <div class=\"colab-df-buttons\">\n",
              "\n",
              "  <div class=\"colab-df-container\">\n",
              "    <button class=\"colab-df-convert\" onclick=\"convertToInteractive('df-7703ae1e-a0ab-4927-8e70-d49b8daa6758')\"\n",
              "            title=\"Convert this dataframe to an interactive table.\"\n",
              "            style=\"display:none;\">\n",
              "\n",
              "  <svg xmlns=\"http://www.w3.org/2000/svg\" height=\"24px\" viewBox=\"0 -960 960 960\">\n",
              "    <path d=\"M120-120v-720h720v720H120Zm60-500h600v-160H180v160Zm220 220h160v-160H400v160Zm0 220h160v-160H400v160ZM180-400h160v-160H180v160Zm440 0h160v-160H620v160ZM180-180h160v-160H180v160Zm440 0h160v-160H620v160Z\"/>\n",
              "  </svg>\n",
              "    </button>\n",
              "\n",
              "  <style>\n",
              "    .colab-df-container {\n",
              "      display:flex;\n",
              "      gap: 12px;\n",
              "    }\n",
              "\n",
              "    .colab-df-convert {\n",
              "      background-color: #E8F0FE;\n",
              "      border: none;\n",
              "      border-radius: 50%;\n",
              "      cursor: pointer;\n",
              "      display: none;\n",
              "      fill: #1967D2;\n",
              "      height: 32px;\n",
              "      padding: 0 0 0 0;\n",
              "      width: 32px;\n",
              "    }\n",
              "\n",
              "    .colab-df-convert:hover {\n",
              "      background-color: #E2EBFA;\n",
              "      box-shadow: 0px 1px 2px rgba(60, 64, 67, 0.3), 0px 1px 3px 1px rgba(60, 64, 67, 0.15);\n",
              "      fill: #174EA6;\n",
              "    }\n",
              "\n",
              "    .colab-df-buttons div {\n",
              "      margin-bottom: 4px;\n",
              "    }\n",
              "\n",
              "    [theme=dark] .colab-df-convert {\n",
              "      background-color: #3B4455;\n",
              "      fill: #D2E3FC;\n",
              "    }\n",
              "\n",
              "    [theme=dark] .colab-df-convert:hover {\n",
              "      background-color: #434B5C;\n",
              "      box-shadow: 0px 1px 3px 1px rgba(0, 0, 0, 0.15);\n",
              "      filter: drop-shadow(0px 1px 2px rgba(0, 0, 0, 0.3));\n",
              "      fill: #FFFFFF;\n",
              "    }\n",
              "  </style>\n",
              "\n",
              "    <script>\n",
              "      const buttonEl =\n",
              "        document.querySelector('#df-7703ae1e-a0ab-4927-8e70-d49b8daa6758 button.colab-df-convert');\n",
              "      buttonEl.style.display =\n",
              "        google.colab.kernel.accessAllowed ? 'block' : 'none';\n",
              "\n",
              "      async function convertToInteractive(key) {\n",
              "        const element = document.querySelector('#df-7703ae1e-a0ab-4927-8e70-d49b8daa6758');\n",
              "        const dataTable =\n",
              "          await google.colab.kernel.invokeFunction('convertToInteractive',\n",
              "                                                    [key], {});\n",
              "        if (!dataTable) return;\n",
              "\n",
              "        const docLinkHtml = 'Like what you see? Visit the ' +\n",
              "          '<a target=\"_blank\" href=https://colab.research.google.com/notebooks/data_table.ipynb>data table notebook</a>'\n",
              "          + ' to learn more about interactive tables.';\n",
              "        element.innerHTML = '';\n",
              "        dataTable['output_type'] = 'display_data';\n",
              "        await google.colab.output.renderOutput(dataTable, element);\n",
              "        const docLink = document.createElement('div');\n",
              "        docLink.innerHTML = docLinkHtml;\n",
              "        element.appendChild(docLink);\n",
              "      }\n",
              "    </script>\n",
              "  </div>\n",
              "\n",
              "    </div>\n",
              "  </div>\n"
            ]
          },
          "metadata": {},
          "execution_count": 28
        }
      ],
      "source": [
        "# Compute performance metrics for the training set using the Linear Regression model\n",
        "lin_reg_training = model_performance_regression(lin_reg, x_train_sd, y_train)\n",
        "\n",
        "# Display the performance metrics for the training set\n",
        "lin_reg_training\n"
      ]
    },
    {
      "cell_type": "markdown",
      "source": [
        "### Checking model performance on test set"
      ],
      "metadata": {
        "id": "WboUGooZ13H6"
      }
    },
    {
      "cell_type": "code",
      "execution_count": null,
      "metadata": {
        "id": "AFSINtT82ZRg",
        "colab": {
          "base_uri": "https://localhost:8080/",
          "height": 81
        },
        "outputId": "d7338a90-14d6-4f44-ab26-472092160582"
      },
      "outputs": [
        {
          "output_type": "execute_result",
          "data": {
            "text/plain": [
              "            MSE           RMSE           MAE  R-squared  Adj. R-squared  \\\n",
              "0  1.054972e+10  102711.838101  82657.946059   0.914645        0.914216   \n",
              "\n",
              "       MAPE  \n",
              "0  7.480128  "
            ],
            "text/html": [
              "\n",
              "  <div id=\"df-de8c7370-8fcf-462d-90c6-d4bfd0fef1b4\" class=\"colab-df-container\">\n",
              "    <div>\n",
              "<style scoped>\n",
              "    .dataframe tbody tr th:only-of-type {\n",
              "        vertical-align: middle;\n",
              "    }\n",
              "\n",
              "    .dataframe tbody tr th {\n",
              "        vertical-align: top;\n",
              "    }\n",
              "\n",
              "    .dataframe thead th {\n",
              "        text-align: right;\n",
              "    }\n",
              "</style>\n",
              "<table border=\"1\" class=\"dataframe\">\n",
              "  <thead>\n",
              "    <tr style=\"text-align: right;\">\n",
              "      <th></th>\n",
              "      <th>MSE</th>\n",
              "      <th>RMSE</th>\n",
              "      <th>MAE</th>\n",
              "      <th>R-squared</th>\n",
              "      <th>Adj. R-squared</th>\n",
              "      <th>MAPE</th>\n",
              "    </tr>\n",
              "  </thead>\n",
              "  <tbody>\n",
              "    <tr>\n",
              "      <th>0</th>\n",
              "      <td>1.054972e+10</td>\n",
              "      <td>102711.838101</td>\n",
              "      <td>82657.946059</td>\n",
              "      <td>0.914645</td>\n",
              "      <td>0.914216</td>\n",
              "      <td>7.480128</td>\n",
              "    </tr>\n",
              "  </tbody>\n",
              "</table>\n",
              "</div>\n",
              "    <div class=\"colab-df-buttons\">\n",
              "\n",
              "  <div class=\"colab-df-container\">\n",
              "    <button class=\"colab-df-convert\" onclick=\"convertToInteractive('df-de8c7370-8fcf-462d-90c6-d4bfd0fef1b4')\"\n",
              "            title=\"Convert this dataframe to an interactive table.\"\n",
              "            style=\"display:none;\">\n",
              "\n",
              "  <svg xmlns=\"http://www.w3.org/2000/svg\" height=\"24px\" viewBox=\"0 -960 960 960\">\n",
              "    <path d=\"M120-120v-720h720v720H120Zm60-500h600v-160H180v160Zm220 220h160v-160H400v160Zm0 220h160v-160H400v160ZM180-400h160v-160H180v160Zm440 0h160v-160H620v160ZM180-180h160v-160H180v160Zm440 0h160v-160H620v160Z\"/>\n",
              "  </svg>\n",
              "    </button>\n",
              "\n",
              "  <style>\n",
              "    .colab-df-container {\n",
              "      display:flex;\n",
              "      gap: 12px;\n",
              "    }\n",
              "\n",
              "    .colab-df-convert {\n",
              "      background-color: #E8F0FE;\n",
              "      border: none;\n",
              "      border-radius: 50%;\n",
              "      cursor: pointer;\n",
              "      display: none;\n",
              "      fill: #1967D2;\n",
              "      height: 32px;\n",
              "      padding: 0 0 0 0;\n",
              "      width: 32px;\n",
              "    }\n",
              "\n",
              "    .colab-df-convert:hover {\n",
              "      background-color: #E2EBFA;\n",
              "      box-shadow: 0px 1px 2px rgba(60, 64, 67, 0.3), 0px 1px 3px 1px rgba(60, 64, 67, 0.15);\n",
              "      fill: #174EA6;\n",
              "    }\n",
              "\n",
              "    .colab-df-buttons div {\n",
              "      margin-bottom: 4px;\n",
              "    }\n",
              "\n",
              "    [theme=dark] .colab-df-convert {\n",
              "      background-color: #3B4455;\n",
              "      fill: #D2E3FC;\n",
              "    }\n",
              "\n",
              "    [theme=dark] .colab-df-convert:hover {\n",
              "      background-color: #434B5C;\n",
              "      box-shadow: 0px 1px 3px 1px rgba(0, 0, 0, 0.15);\n",
              "      filter: drop-shadow(0px 1px 2px rgba(0, 0, 0, 0.3));\n",
              "      fill: #FFFFFF;\n",
              "    }\n",
              "  </style>\n",
              "\n",
              "    <script>\n",
              "      const buttonEl =\n",
              "        document.querySelector('#df-de8c7370-8fcf-462d-90c6-d4bfd0fef1b4 button.colab-df-convert');\n",
              "      buttonEl.style.display =\n",
              "        google.colab.kernel.accessAllowed ? 'block' : 'none';\n",
              "\n",
              "      async function convertToInteractive(key) {\n",
              "        const element = document.querySelector('#df-de8c7370-8fcf-462d-90c6-d4bfd0fef1b4');\n",
              "        const dataTable =\n",
              "          await google.colab.kernel.invokeFunction('convertToInteractive',\n",
              "                                                    [key], {});\n",
              "        if (!dataTable) return;\n",
              "\n",
              "        const docLinkHtml = 'Like what you see? Visit the ' +\n",
              "          '<a target=\"_blank\" href=https://colab.research.google.com/notebooks/data_table.ipynb>data table notebook</a>'\n",
              "          + ' to learn more about interactive tables.';\n",
              "        element.innerHTML = '';\n",
              "        dataTable['output_type'] = 'display_data';\n",
              "        await google.colab.output.renderOutput(dataTable, element);\n",
              "        const docLink = document.createElement('div');\n",
              "        docLink.innerHTML = docLinkHtml;\n",
              "        element.appendChild(docLink);\n",
              "      }\n",
              "    </script>\n",
              "  </div>\n",
              "\n",
              "    </div>\n",
              "  </div>\n"
            ]
          },
          "metadata": {},
          "execution_count": 30
        }
      ],
      "source": [
        "# Compute performance metrics for the test set using the Linear Regression model\n",
        "lin_reg_test = model_performance_regression(lin_reg, x_test_sd, y_test)\n",
        "\n",
        "# Display the performance metrics for the test set\n",
        "lin_reg_test\n"
      ]
    },
    {
      "cell_type": "markdown",
      "metadata": {
        "id": "V_jwsh1a2ZRg"
      },
      "source": [
        "### Checking model performance on test set"
      ]
    },
    {
      "cell_type": "markdown",
      "metadata": {
        "id": "OqyU3xFP2ZRg"
      },
      "source": [
        "#### summary\n",
        "\n",
        "\n",
        "\n",
        "The performance of the Linear Regression model was evaluated using various metrics for both the training and test sets. For the training set, the model achieved an RMSE of approximately  100,696 dollars and an MAE of 81,041 dollars, indicating that, on average, the predicted house prices deviate from the actual prices by around  100,696 dollars and 81,041 dollars, respectively. The R-squared value of 0.919 suggests that approximately 91.9% of the variance in house prices is explained by the model. Similarly, the adjusted R-squared value of 0.919 indicates that the model's explanatory power is still high, considering the number of features.  However, when evaluating the model's performance on the test set, the results were slightly worse, with an RMSE of approximately  102,712 dollars and an MAE of 82,658 dollars. The R-squared value decreased slightly to 0.915, indicating that the model's predictive performance is still strong but slightly lower than on the training set. The adjusted R-squared value also decreased slightly to 0.914. Overall, the model performs well on both the training and test sets, with minimal signs of overfitting, as the performance metrics on the test set are comparable to those on the training set, although there is a slight decrease in performance."
      ]
    },
    {
      "cell_type": "markdown",
      "metadata": {
        "id": "_pPGKNbJ2ZRg"
      },
      "source": [
        "## Ridge Regression\n",
        "- Ridge regression is also a linear model for regression.  In Ridge regression,the\n",
        "coefficients w are chosen not only so that they predict well on the training data, but\n",
        "there is an additional constraint. We also want the magnitude of coefficients to be as\n",
        "small as possible; in other words, all entries of w should be close to 0.\n",
        "\n",
        "\n",
        "\n",
        "- This constraint is an example of what is called regularization. Regularization means\n",
        "explicitly restricting a model to avoid overfitting"
      ]
    },
    {
      "cell_type": "code",
      "execution_count": null,
      "metadata": {
        "id": "kRHlqGGm2ZRg",
        "colab": {
          "base_uri": "https://localhost:8080/",
          "height": 74
        },
        "outputId": "0d37c13f-6284-4841-9b4f-158c6b614db6"
      },
      "outputs": [
        {
          "output_type": "execute_result",
          "data": {
            "text/plain": [
              "Ridge(random_state=0)"
            ],
            "text/html": [
              "<style>#sk-container-id-1 {color: black;background-color: white;}#sk-container-id-1 pre{padding: 0;}#sk-container-id-1 div.sk-toggleable {background-color: white;}#sk-container-id-1 label.sk-toggleable__label {cursor: pointer;display: block;width: 100%;margin-bottom: 0;padding: 0.3em;box-sizing: border-box;text-align: center;}#sk-container-id-1 label.sk-toggleable__label-arrow:before {content: \"▸\";float: left;margin-right: 0.25em;color: #696969;}#sk-container-id-1 label.sk-toggleable__label-arrow:hover:before {color: black;}#sk-container-id-1 div.sk-estimator:hover label.sk-toggleable__label-arrow:before {color: black;}#sk-container-id-1 div.sk-toggleable__content {max-height: 0;max-width: 0;overflow: hidden;text-align: left;background-color: #f0f8ff;}#sk-container-id-1 div.sk-toggleable__content pre {margin: 0.2em;color: black;border-radius: 0.25em;background-color: #f0f8ff;}#sk-container-id-1 input.sk-toggleable__control:checked~div.sk-toggleable__content {max-height: 200px;max-width: 100%;overflow: auto;}#sk-container-id-1 input.sk-toggleable__control:checked~label.sk-toggleable__label-arrow:before {content: \"▾\";}#sk-container-id-1 div.sk-estimator input.sk-toggleable__control:checked~label.sk-toggleable__label {background-color: #d4ebff;}#sk-container-id-1 div.sk-label input.sk-toggleable__control:checked~label.sk-toggleable__label {background-color: #d4ebff;}#sk-container-id-1 input.sk-hidden--visually {border: 0;clip: rect(1px 1px 1px 1px);clip: rect(1px, 1px, 1px, 1px);height: 1px;margin: -1px;overflow: hidden;padding: 0;position: absolute;width: 1px;}#sk-container-id-1 div.sk-estimator {font-family: monospace;background-color: #f0f8ff;border: 1px dotted black;border-radius: 0.25em;box-sizing: border-box;margin-bottom: 0.5em;}#sk-container-id-1 div.sk-estimator:hover {background-color: #d4ebff;}#sk-container-id-1 div.sk-parallel-item::after {content: \"\";width: 100%;border-bottom: 1px solid gray;flex-grow: 1;}#sk-container-id-1 div.sk-label:hover label.sk-toggleable__label {background-color: #d4ebff;}#sk-container-id-1 div.sk-serial::before {content: \"\";position: absolute;border-left: 1px solid gray;box-sizing: border-box;top: 0;bottom: 0;left: 50%;z-index: 0;}#sk-container-id-1 div.sk-serial {display: flex;flex-direction: column;align-items: center;background-color: white;padding-right: 0.2em;padding-left: 0.2em;position: relative;}#sk-container-id-1 div.sk-item {position: relative;z-index: 1;}#sk-container-id-1 div.sk-parallel {display: flex;align-items: stretch;justify-content: center;background-color: white;position: relative;}#sk-container-id-1 div.sk-item::before, #sk-container-id-1 div.sk-parallel-item::before {content: \"\";position: absolute;border-left: 1px solid gray;box-sizing: border-box;top: 0;bottom: 0;left: 50%;z-index: -1;}#sk-container-id-1 div.sk-parallel-item {display: flex;flex-direction: column;z-index: 1;position: relative;background-color: white;}#sk-container-id-1 div.sk-parallel-item:first-child::after {align-self: flex-end;width: 50%;}#sk-container-id-1 div.sk-parallel-item:last-child::after {align-self: flex-start;width: 50%;}#sk-container-id-1 div.sk-parallel-item:only-child::after {width: 0;}#sk-container-id-1 div.sk-dashed-wrapped {border: 1px dashed gray;margin: 0 0.4em 0.5em 0.4em;box-sizing: border-box;padding-bottom: 0.4em;background-color: white;}#sk-container-id-1 div.sk-label label {font-family: monospace;font-weight: bold;display: inline-block;line-height: 1.2em;}#sk-container-id-1 div.sk-label-container {text-align: center;}#sk-container-id-1 div.sk-container {/* jupyter's `normalize.less` sets `[hidden] { display: none; }` but bootstrap.min.css set `[hidden] { display: none !important; }` so we also need the `!important` here to be able to override the default hidden behavior on the sphinx rendered scikit-learn.org. See: https://github.com/scikit-learn/scikit-learn/issues/21755 */display: inline-block !important;position: relative;}#sk-container-id-1 div.sk-text-repr-fallback {display: none;}</style><div id=\"sk-container-id-1\" class=\"sk-top-container\"><div class=\"sk-text-repr-fallback\"><pre>Ridge(random_state=0)</pre><b>In a Jupyter environment, please rerun this cell to show the HTML representation or trust the notebook. <br />On GitHub, the HTML representation is unable to render, please try loading this page with nbviewer.org.</b></div><div class=\"sk-container\" hidden><div class=\"sk-item\"><div class=\"sk-estimator sk-toggleable\"><input class=\"sk-toggleable__control sk-hidden--visually\" id=\"sk-estimator-id-1\" type=\"checkbox\" checked><label for=\"sk-estimator-id-1\" class=\"sk-toggleable__label sk-toggleable__label-arrow\">Ridge</label><div class=\"sk-toggleable__content\"><pre>Ridge(random_state=0)</pre></div></div></div></div></div>"
            ]
          },
          "metadata": {},
          "execution_count": 16
        }
      ],
      "source": [
        "# instantiate the model\n",
        "ridge = Ridge(random_state=0)\n",
        "\n",
        "# fit the model\n",
        "ridge.fit(x_train_sd,y_train)\n",
        "\n",
        "# training and test accuracy\n",
        "\n"
      ]
    },
    {
      "cell_type": "code",
      "source": [
        "# check performance of ridge regression on trian data\n",
        "ridge_train = model_performance_regression(ridge, x_train_sd,y_train)\n",
        "ridge_train"
      ],
      "metadata": {
        "colab": {
          "base_uri": "https://localhost:8080/",
          "height": 80
        },
        "id": "xB7pFqQ1e0hR",
        "outputId": "5d1a6964-fbb3-455d-de94-f30fdd0902ee"
      },
      "execution_count": null,
      "outputs": [
        {
          "output_type": "execute_result",
          "data": {
            "text/plain": [
              "            MSE          RMSE           MAE  R-squared  Adj. R-squared  \\\n",
              "0  1.013964e+10  100695.79108  81041.764162    0.91884        0.918738   \n",
              "\n",
              "      MAPE  \n",
              "0  7.65001  "
            ],
            "text/html": [
              "\n",
              "  <div id=\"df-f2726492-6435-46ff-aed9-4e3f68b7ee05\" class=\"colab-df-container\">\n",
              "    <div>\n",
              "<style scoped>\n",
              "    .dataframe tbody tr th:only-of-type {\n",
              "        vertical-align: middle;\n",
              "    }\n",
              "\n",
              "    .dataframe tbody tr th {\n",
              "        vertical-align: top;\n",
              "    }\n",
              "\n",
              "    .dataframe thead th {\n",
              "        text-align: right;\n",
              "    }\n",
              "</style>\n",
              "<table border=\"1\" class=\"dataframe\">\n",
              "  <thead>\n",
              "    <tr style=\"text-align: right;\">\n",
              "      <th></th>\n",
              "      <th>MSE</th>\n",
              "      <th>RMSE</th>\n",
              "      <th>MAE</th>\n",
              "      <th>R-squared</th>\n",
              "      <th>Adj. R-squared</th>\n",
              "      <th>MAPE</th>\n",
              "    </tr>\n",
              "  </thead>\n",
              "  <tbody>\n",
              "    <tr>\n",
              "      <th>0</th>\n",
              "      <td>1.013964e+10</td>\n",
              "      <td>100695.79108</td>\n",
              "      <td>81041.764162</td>\n",
              "      <td>0.91884</td>\n",
              "      <td>0.918738</td>\n",
              "      <td>7.65001</td>\n",
              "    </tr>\n",
              "  </tbody>\n",
              "</table>\n",
              "</div>\n",
              "    <div class=\"colab-df-buttons\">\n",
              "\n",
              "  <div class=\"colab-df-container\">\n",
              "    <button class=\"colab-df-convert\" onclick=\"convertToInteractive('df-f2726492-6435-46ff-aed9-4e3f68b7ee05')\"\n",
              "            title=\"Convert this dataframe to an interactive table.\"\n",
              "            style=\"display:none;\">\n",
              "\n",
              "  <svg xmlns=\"http://www.w3.org/2000/svg\" height=\"24px\" viewBox=\"0 -960 960 960\">\n",
              "    <path d=\"M120-120v-720h720v720H120Zm60-500h600v-160H180v160Zm220 220h160v-160H400v160Zm0 220h160v-160H400v160ZM180-400h160v-160H180v160Zm440 0h160v-160H620v160ZM180-180h160v-160H180v160Zm440 0h160v-160H620v160Z\"/>\n",
              "  </svg>\n",
              "    </button>\n",
              "\n",
              "  <style>\n",
              "    .colab-df-container {\n",
              "      display:flex;\n",
              "      gap: 12px;\n",
              "    }\n",
              "\n",
              "    .colab-df-convert {\n",
              "      background-color: #E8F0FE;\n",
              "      border: none;\n",
              "      border-radius: 50%;\n",
              "      cursor: pointer;\n",
              "      display: none;\n",
              "      fill: #1967D2;\n",
              "      height: 32px;\n",
              "      padding: 0 0 0 0;\n",
              "      width: 32px;\n",
              "    }\n",
              "\n",
              "    .colab-df-convert:hover {\n",
              "      background-color: #E2EBFA;\n",
              "      box-shadow: 0px 1px 2px rgba(60, 64, 67, 0.3), 0px 1px 3px 1px rgba(60, 64, 67, 0.15);\n",
              "      fill: #174EA6;\n",
              "    }\n",
              "\n",
              "    .colab-df-buttons div {\n",
              "      margin-bottom: 4px;\n",
              "    }\n",
              "\n",
              "    [theme=dark] .colab-df-convert {\n",
              "      background-color: #3B4455;\n",
              "      fill: #D2E3FC;\n",
              "    }\n",
              "\n",
              "    [theme=dark] .colab-df-convert:hover {\n",
              "      background-color: #434B5C;\n",
              "      box-shadow: 0px 1px 3px 1px rgba(0, 0, 0, 0.15);\n",
              "      filter: drop-shadow(0px 1px 2px rgba(0, 0, 0, 0.3));\n",
              "      fill: #FFFFFF;\n",
              "    }\n",
              "  </style>\n",
              "\n",
              "    <script>\n",
              "      const buttonEl =\n",
              "        document.querySelector('#df-f2726492-6435-46ff-aed9-4e3f68b7ee05 button.colab-df-convert');\n",
              "      buttonEl.style.display =\n",
              "        google.colab.kernel.accessAllowed ? 'block' : 'none';\n",
              "\n",
              "      async function convertToInteractive(key) {\n",
              "        const element = document.querySelector('#df-f2726492-6435-46ff-aed9-4e3f68b7ee05');\n",
              "        const dataTable =\n",
              "          await google.colab.kernel.invokeFunction('convertToInteractive',\n",
              "                                                    [key], {});\n",
              "        if (!dataTable) return;\n",
              "\n",
              "        const docLinkHtml = 'Like what you see? Visit the ' +\n",
              "          '<a target=\"_blank\" href=https://colab.research.google.com/notebooks/data_table.ipynb>data table notebook</a>'\n",
              "          + ' to learn more about interactive tables.';\n",
              "        element.innerHTML = '';\n",
              "        dataTable['output_type'] = 'display_data';\n",
              "        await google.colab.output.renderOutput(dataTable, element);\n",
              "        const docLink = document.createElement('div');\n",
              "        docLink.innerHTML = docLinkHtml;\n",
              "        element.appendChild(docLink);\n",
              "      }\n",
              "    </script>\n",
              "  </div>\n",
              "\n",
              "    </div>\n",
              "  </div>\n"
            ]
          },
          "metadata": {},
          "execution_count": 17
        }
      ]
    },
    {
      "cell_type": "code",
      "source": [
        "# check performance of ridge regression on testing data\n",
        "ridge_test = model_performance_regression(ridge, x_test_sd,y_test)\n",
        "ridge_test"
      ],
      "metadata": {
        "colab": {
          "base_uri": "https://localhost:8080/",
          "height": 80
        },
        "id": "-qJvDSK_fVnA",
        "outputId": "38006198-5f98-40c8-a179-600047675286"
      },
      "execution_count": null,
      "outputs": [
        {
          "output_type": "execute_result",
          "data": {
            "text/plain": [
              "            MSE           RMSE           MAE  R-squared  Adj. R-squared  \\\n",
              "0  1.054893e+10  102707.966108  82658.162002   0.914652        0.914223   \n",
              "\n",
              "       MAPE  \n",
              "0  7.480705  "
            ],
            "text/html": [
              "\n",
              "  <div id=\"df-6166de9b-1a4b-4d9a-8cc5-edab8d4abd66\" class=\"colab-df-container\">\n",
              "    <div>\n",
              "<style scoped>\n",
              "    .dataframe tbody tr th:only-of-type {\n",
              "        vertical-align: middle;\n",
              "    }\n",
              "\n",
              "    .dataframe tbody tr th {\n",
              "        vertical-align: top;\n",
              "    }\n",
              "\n",
              "    .dataframe thead th {\n",
              "        text-align: right;\n",
              "    }\n",
              "</style>\n",
              "<table border=\"1\" class=\"dataframe\">\n",
              "  <thead>\n",
              "    <tr style=\"text-align: right;\">\n",
              "      <th></th>\n",
              "      <th>MSE</th>\n",
              "      <th>RMSE</th>\n",
              "      <th>MAE</th>\n",
              "      <th>R-squared</th>\n",
              "      <th>Adj. R-squared</th>\n",
              "      <th>MAPE</th>\n",
              "    </tr>\n",
              "  </thead>\n",
              "  <tbody>\n",
              "    <tr>\n",
              "      <th>0</th>\n",
              "      <td>1.054893e+10</td>\n",
              "      <td>102707.966108</td>\n",
              "      <td>82658.162002</td>\n",
              "      <td>0.914652</td>\n",
              "      <td>0.914223</td>\n",
              "      <td>7.480705</td>\n",
              "    </tr>\n",
              "  </tbody>\n",
              "</table>\n",
              "</div>\n",
              "    <div class=\"colab-df-buttons\">\n",
              "\n",
              "  <div class=\"colab-df-container\">\n",
              "    <button class=\"colab-df-convert\" onclick=\"convertToInteractive('df-6166de9b-1a4b-4d9a-8cc5-edab8d4abd66')\"\n",
              "            title=\"Convert this dataframe to an interactive table.\"\n",
              "            style=\"display:none;\">\n",
              "\n",
              "  <svg xmlns=\"http://www.w3.org/2000/svg\" height=\"24px\" viewBox=\"0 -960 960 960\">\n",
              "    <path d=\"M120-120v-720h720v720H120Zm60-500h600v-160H180v160Zm220 220h160v-160H400v160Zm0 220h160v-160H400v160ZM180-400h160v-160H180v160Zm440 0h160v-160H620v160ZM180-180h160v-160H180v160Zm440 0h160v-160H620v160Z\"/>\n",
              "  </svg>\n",
              "    </button>\n",
              "\n",
              "  <style>\n",
              "    .colab-df-container {\n",
              "      display:flex;\n",
              "      gap: 12px;\n",
              "    }\n",
              "\n",
              "    .colab-df-convert {\n",
              "      background-color: #E8F0FE;\n",
              "      border: none;\n",
              "      border-radius: 50%;\n",
              "      cursor: pointer;\n",
              "      display: none;\n",
              "      fill: #1967D2;\n",
              "      height: 32px;\n",
              "      padding: 0 0 0 0;\n",
              "      width: 32px;\n",
              "    }\n",
              "\n",
              "    .colab-df-convert:hover {\n",
              "      background-color: #E2EBFA;\n",
              "      box-shadow: 0px 1px 2px rgba(60, 64, 67, 0.3), 0px 1px 3px 1px rgba(60, 64, 67, 0.15);\n",
              "      fill: #174EA6;\n",
              "    }\n",
              "\n",
              "    .colab-df-buttons div {\n",
              "      margin-bottom: 4px;\n",
              "    }\n",
              "\n",
              "    [theme=dark] .colab-df-convert {\n",
              "      background-color: #3B4455;\n",
              "      fill: #D2E3FC;\n",
              "    }\n",
              "\n",
              "    [theme=dark] .colab-df-convert:hover {\n",
              "      background-color: #434B5C;\n",
              "      box-shadow: 0px 1px 3px 1px rgba(0, 0, 0, 0.15);\n",
              "      filter: drop-shadow(0px 1px 2px rgba(0, 0, 0, 0.3));\n",
              "      fill: #FFFFFF;\n",
              "    }\n",
              "  </style>\n",
              "\n",
              "    <script>\n",
              "      const buttonEl =\n",
              "        document.querySelector('#df-6166de9b-1a4b-4d9a-8cc5-edab8d4abd66 button.colab-df-convert');\n",
              "      buttonEl.style.display =\n",
              "        google.colab.kernel.accessAllowed ? 'block' : 'none';\n",
              "\n",
              "      async function convertToInteractive(key) {\n",
              "        const element = document.querySelector('#df-6166de9b-1a4b-4d9a-8cc5-edab8d4abd66');\n",
              "        const dataTable =\n",
              "          await google.colab.kernel.invokeFunction('convertToInteractive',\n",
              "                                                    [key], {});\n",
              "        if (!dataTable) return;\n",
              "\n",
              "        const docLinkHtml = 'Like what you see? Visit the ' +\n",
              "          '<a target=\"_blank\" href=https://colab.research.google.com/notebooks/data_table.ipynb>data table notebook</a>'\n",
              "          + ' to learn more about interactive tables.';\n",
              "        element.innerHTML = '';\n",
              "        dataTable['output_type'] = 'display_data';\n",
              "        await google.colab.output.renderOutput(dataTable, element);\n",
              "        const docLink = document.createElement('div');\n",
              "        docLink.innerHTML = docLinkHtml;\n",
              "        element.appendChild(docLink);\n",
              "      }\n",
              "    </script>\n",
              "  </div>\n",
              "\n",
              "    </div>\n",
              "  </div>\n"
            ]
          },
          "metadata": {},
          "execution_count": 18
        }
      ]
    },
    {
      "cell_type": "code",
      "source": [
        "ridge.coef_"
      ],
      "metadata": {
        "colab": {
          "base_uri": "https://localhost:8080/"
        },
        "id": "WuVj4x6WFKRI",
        "outputId": "6fe5ba2d-df3d-463f-ed4c-eefe2836845a"
      },
      "execution_count": null,
      "outputs": [
        {
          "output_type": "execute_result",
          "data": {
            "text/plain": [
              "array([231097.48350526, 165284.0354888 , 121483.51613443,   2715.33971562,\n",
              "       151196.91305488])"
            ]
          },
          "metadata": {},
          "execution_count": 19
        }
      ]
    },
    {
      "cell_type": "markdown",
      "source": [
        "- the coefficent is still high because it has not been reguilzed\n",
        "\n",
        "\n",
        "###  model regularization"
      ],
      "metadata": {
        "id": "9rHc9pa4FWOT"
      }
    },
    {
      "cell_type": "code",
      "source": [
        "# Looping through different values of alpha to evaluate its effect on model performance\n",
        "\n",
        "alpha_values = np.linspace(0.2, 10, num=10)  # Start: 0.2, Stop: 10, Number of values: 10\n",
        "for alpha in alpha_values:\n",
        "    ridge = Ridge(random_state=0, alpha=alpha)  # Initializing Ridge regression model with current alpha value\n",
        "    ridge.fit(x_train_sd, y_train)  # Fitting the model on standardized training data\n",
        "    ridge_train = model_performance_regression(ridge, x_train_sd, y_train)  # Evaluating model performance on training data\n",
        "    print(ridge_train)  # Printing training performance metrics\n",
        "    print(alpha)  # Printing the current alpha value being evaluated\n"
      ],
      "metadata": {
        "colab": {
          "base_uri": "https://localhost:8080/"
        },
        "id": "vbmKpFmPflX4",
        "outputId": "829469fa-e3e8-484d-ec21-42dc8d7e9a78"
      },
      "execution_count": null,
      "outputs": [
        {
          "output_type": "stream",
          "name": "stdout",
          "text": [
            "            MSE           RMSE           MAE  R-squared  Adj. R-squared  \\\n",
            "0  1.013963e+10  100695.753346  81041.049992    0.91884        0.918739   \n",
            "\n",
            "       MAPE  \n",
            "0  7.649053  \n",
            "0.2\n",
            "            MSE           RMSE           MAE  R-squared  Adj. R-squared  \\\n",
            "0  1.013965e+10  100695.817061  81042.026855    0.91884        0.918738   \n",
            "\n",
            "       MAPE  \n",
            "0  7.650355  \n",
            "1.288888888888889\n",
            "            MSE           RMSE           MAE  R-squared  Adj. R-squared  \\\n",
            "0  1.013968e+10  100695.973838  81043.045868    0.91884        0.918738   \n",
            "\n",
            "      MAPE  \n",
            "0  7.65166  \n",
            "2.377777777777778\n",
            "            MSE           RMSE           MAE  R-squared  Adj. R-squared  \\\n",
            "0  1.013973e+10  100696.223504  81044.090958   0.918839        0.918738   \n",
            "\n",
            "       MAPE  \n",
            "0  7.652965  \n",
            "3.4666666666666672\n",
            "            MSE           RMSE           MAE  R-squared  Adj. R-squared  \\\n",
            "0  1.013980e+10  100696.565889  81045.196132   0.918839        0.918737   \n",
            "\n",
            "       MAPE  \n",
            "0  7.654276  \n",
            "4.555555555555556\n",
            "            MSE           RMSE           MAE  R-squared  Adj. R-squared  \\\n",
            "0  1.013989e+10  100697.000822  81046.371331   0.918838        0.918736   \n",
            "\n",
            "      MAPE  \n",
            "0  7.65559  \n",
            "5.644444444444445\n",
            "            MSE           RMSE           MAE  R-squared  Adj. R-squared  \\\n",
            "0  1.013999e+10  100697.528131  81047.565832   0.918837        0.918736   \n",
            "\n",
            "       MAPE  \n",
            "0  7.656904  \n",
            "6.733333333333334\n",
            "            MSE           RMSE           MAE  R-squared  Adj. R-squared  \\\n",
            "0  1.014012e+10  100698.147646  81048.872586   0.918836        0.918735   \n",
            "\n",
            "       MAPE  \n",
            "0  7.658236  \n",
            "7.822222222222224\n",
            "            MSE           RMSE           MAE  R-squared  Adj. R-squared  \\\n",
            "0  1.014026e+10  100698.859195  81050.310874   0.918835        0.918733   \n",
            "\n",
            "       MAPE  \n",
            "0  7.659611  \n",
            "8.911111111111111\n",
            "            MSE           RMSE           MAE  R-squared  Adj. R-squared  \\\n",
            "0  1.014042e+10  100699.662608  81051.754444   0.918834        0.918732   \n",
            "\n",
            "       MAPE  \n",
            "0  7.660984  \n",
            "10.0\n"
          ]
        }
      ]
    },
    {
      "cell_type": "markdown",
      "source": [
        "\n",
        "\n",
        "The results show the performance metrics (MSE, RMSE, MAE, R-squared, Adj. R-squared, MAPE) for a Ridge regression model trained with different alpha values ranging from 0.2 to 10. As alpha increases, there is a slight increase in MSE, RMSE, MAE, and MAPE, indicating a slight decrease in model performance. However, R-squared and adjusted R-squared remain relatively stable around 0.9188, suggesting that the model explains around 91.88% of the variance in the data regardless of alpha value\n",
        "\n",
        "Overall there was not significant improvement in the performance of the model using different alpha value\n",
        "\n",
        "### visualizing the training and test accuracy"
      ],
      "metadata": {
        "id": "4_Xgu_DAQ4g0"
      }
    },
    {
      "cell_type": "code",
      "source": [
        "### Showing training and testing accuracy\n",
        "\n",
        "# Lists to store training and testing accuracies\n",
        "train_acc = []\n",
        "test_acc = []\n",
        "\n",
        "# Generating alpha values for Ridge regression\n",
        "alpha_values = np.linspace(0.2, 10, num=10)\n",
        "\n",
        "# Looping through different alpha values\n",
        "for alpha in alpha_values:\n",
        "    ridge = Ridge(random_state=0, alpha=alpha)  # Initializing Ridge regression model with current alpha value\n",
        "    ridge.fit(x_train_sd, y_train)  # Fitting the model on standardized training data\n",
        "    train_acc.append(ridge.score(x_train_sd, y_train))  # Computing and storing training accuracy\n",
        "    test_acc.append(ridge.score(x_test_sd, y_test))  # Computing and storing testing accuracy\n",
        "\n",
        "# Plotting the training and testing accuracies against alpha values\n",
        "plt.plot(alpha_values, train_acc, label=\"Training Accuracy\")\n",
        "plt.plot(alpha_values, test_acc, label=\"Testing Accuracy\")\n",
        "plt.legend(loc=\"best\")  # Optional: Adding legend\n",
        "plt.show()  # Displaying the plot\n"
      ],
      "metadata": {
        "colab": {
          "base_uri": "https://localhost:8080/",
          "height": 431
        },
        "id": "Ede3eOykGqaw",
        "outputId": "d1348157-445d-4d4e-9e29-183e1d489760"
      },
      "execution_count": null,
      "outputs": [
        {
          "output_type": "display_data",
          "data": {
            "text/plain": [
              "<Figure size 640x480 with 1 Axes>"
            ],
            "image/png": "[encoded data removed]"
          },
          "metadata": {}
        }
      ]
    },
    {
      "cell_type": "markdown",
      "source": [
        "- This code calculates and plots the training and testing accuracies of a Ridge regression model for different alpha values, showing how the model's performance varies with regularization strength\n",
        "\n"
      ],
      "metadata": {
        "id": "Yxyn4kD_TCdr"
      }
    },
    {
      "cell_type": "markdown",
      "metadata": {
        "id": "aEcS9Zki2ZRg"
      },
      "source": [
        "## Lasso Regression\n",
        "- An alternative to Ridge for regularizing linear regression is the Lasso. The lasso also\n",
        "restricts coefficients to be close to zero, similarly to Ridge regression, but in a slightly\n",
        "different way, called “l1” regularization.\n",
        "- The consequence of l1 regularization is that when using the Lasso, some coefficients\n",
        "are exactly zero."
      ]
    },
    {
      "cell_type": "code",
      "execution_count": null,
      "metadata": {
        "id": "01Wrxg4P2ZRh",
        "colab": {
          "base_uri": "https://localhost:8080/",
          "height": 74
        },
        "outputId": "e1d2ee3a-b21e-4bfb-e4e7-52a3f8723832"
      },
      "outputs": [
        {
          "output_type": "execute_result",
          "data": {
            "text/plain": [
              "Lasso(random_state=0)"
            ],
            "text/html": [
              "<style>#sk-container-id-2 {color: black;background-color: white;}#sk-container-id-2 pre{padding: 0;}#sk-container-id-2 div.sk-toggleable {background-color: white;}#sk-container-id-2 label.sk-toggleable__label {cursor: pointer;display: block;width: 100%;margin-bottom: 0;padding: 0.3em;box-sizing: border-box;text-align: center;}#sk-container-id-2 label.sk-toggleable__label-arrow:before {content: \"▸\";float: left;margin-right: 0.25em;color: #696969;}#sk-container-id-2 label.sk-toggleable__label-arrow:hover:before {color: black;}#sk-container-id-2 div.sk-estimator:hover label.sk-toggleable__label-arrow:before {color: black;}#sk-container-id-2 div.sk-toggleable__content {max-height: 0;max-width: 0;overflow: hidden;text-align: left;background-color: #f0f8ff;}#sk-container-id-2 div.sk-toggleable__content pre {margin: 0.2em;color: black;border-radius: 0.25em;background-color: #f0f8ff;}#sk-container-id-2 input.sk-toggleable__control:checked~div.sk-toggleable__content {max-height: 200px;max-width: 100%;overflow: auto;}#sk-container-id-2 input.sk-toggleable__control:checked~label.sk-toggleable__label-arrow:before {content: \"▾\";}#sk-container-id-2 div.sk-estimator input.sk-toggleable__control:checked~label.sk-toggleable__label {background-color: #d4ebff;}#sk-container-id-2 div.sk-label input.sk-toggleable__control:checked~label.sk-toggleable__label {background-color: #d4ebff;}#sk-container-id-2 input.sk-hidden--visually {border: 0;clip: rect(1px 1px 1px 1px);clip: rect(1px, 1px, 1px, 1px);height: 1px;margin: -1px;overflow: hidden;padding: 0;position: absolute;width: 1px;}#sk-container-id-2 div.sk-estimator {font-family: monospace;background-color: #f0f8ff;border: 1px dotted black;border-radius: 0.25em;box-sizing: border-box;margin-bottom: 0.5em;}#sk-container-id-2 div.sk-estimator:hover {background-color: #d4ebff;}#sk-container-id-2 div.sk-parallel-item::after {content: \"\";width: 100%;border-bottom: 1px solid gray;flex-grow: 1;}#sk-container-id-2 div.sk-label:hover label.sk-toggleable__label {background-color: #d4ebff;}#sk-container-id-2 div.sk-serial::before {content: \"\";position: absolute;border-left: 1px solid gray;box-sizing: border-box;top: 0;bottom: 0;left: 50%;z-index: 0;}#sk-container-id-2 div.sk-serial {display: flex;flex-direction: column;align-items: center;background-color: white;padding-right: 0.2em;padding-left: 0.2em;position: relative;}#sk-container-id-2 div.sk-item {position: relative;z-index: 1;}#sk-container-id-2 div.sk-parallel {display: flex;align-items: stretch;justify-content: center;background-color: white;position: relative;}#sk-container-id-2 div.sk-item::before, #sk-container-id-2 div.sk-parallel-item::before {content: \"\";position: absolute;border-left: 1px solid gray;box-sizing: border-box;top: 0;bottom: 0;left: 50%;z-index: -1;}#sk-container-id-2 div.sk-parallel-item {display: flex;flex-direction: column;z-index: 1;position: relative;background-color: white;}#sk-container-id-2 div.sk-parallel-item:first-child::after {align-self: flex-end;width: 50%;}#sk-container-id-2 div.sk-parallel-item:last-child::after {align-self: flex-start;width: 50%;}#sk-container-id-2 div.sk-parallel-item:only-child::after {width: 0;}#sk-container-id-2 div.sk-dashed-wrapped {border: 1px dashed gray;margin: 0 0.4em 0.5em 0.4em;box-sizing: border-box;padding-bottom: 0.4em;background-color: white;}#sk-container-id-2 div.sk-label label {font-family: monospace;font-weight: bold;display: inline-block;line-height: 1.2em;}#sk-container-id-2 div.sk-label-container {text-align: center;}#sk-container-id-2 div.sk-container {/* jupyter's `normalize.less` sets `[hidden] { display: none; }` but bootstrap.min.css set `[hidden] { display: none !important; }` so we also need the `!important` here to be able to override the default hidden behavior on the sphinx rendered scikit-learn.org. See: https://github.com/scikit-learn/scikit-learn/issues/21755 */display: inline-block !important;position: relative;}#sk-container-id-2 div.sk-text-repr-fallback {display: none;}</style><div id=\"sk-container-id-2\" class=\"sk-top-container\"><div class=\"sk-text-repr-fallback\"><pre>Lasso(random_state=0)</pre><b>In a Jupyter environment, please rerun this cell to show the HTML representation or trust the notebook. <br />On GitHub, the HTML representation is unable to render, please try loading this page with nbviewer.org.</b></div><div class=\"sk-container\" hidden><div class=\"sk-item\"><div class=\"sk-estimator sk-toggleable\"><input class=\"sk-toggleable__control sk-hidden--visually\" id=\"sk-estimator-id-2\" type=\"checkbox\" checked><label for=\"sk-estimator-id-2\" class=\"sk-toggleable__label sk-toggleable__label-arrow\">Lasso</label><div class=\"sk-toggleable__content\"><pre>Lasso(random_state=0)</pre></div></div></div></div></div>"
            ]
          },
          "metadata": {},
          "execution_count": 21
        }
      ],
      "source": [
        "# train the Lasso model\n",
        "lasso = Lasso(random_state=0)\n",
        "\n",
        "# get the accuracy on both data sets\n",
        "\n",
        "lasso.fit(x_train_sd,y_train)"
      ]
    },
    {
      "cell_type": "code",
      "source": [
        "# check performance of lasso regression on trian data\n",
        "lasso_train = model_performance_regression(lasso, x_train_sd,y_train)\n",
        "lasso_train"
      ],
      "metadata": {
        "colab": {
          "base_uri": "https://localhost:8080/",
          "height": 81
        },
        "id": "OrTmckR8iwGp",
        "outputId": "60ea4f34-4bad-4ee1-d17d-d56f47721209"
      },
      "execution_count": null,
      "outputs": [
        {
          "output_type": "execute_result",
          "data": {
            "text/plain": [
              "            MSE           RMSE           MAE  R-squared  Adj. R-squared  \\\n",
              "0  1.013963e+10  100695.751792  81040.873167    0.91884        0.918739   \n",
              "\n",
              "       MAPE  \n",
              "0  7.648836  "
            ],
            "text/html": [
              "\n",
              "  <div id=\"df-af7d3e67-b4c1-4228-946f-01e1d2ed38a6\">\n",
              "    <div class=\"colab-df-container\">\n",
              "      <div>\n",
              "<style scoped>\n",
              "    .dataframe tbody tr th:only-of-type {\n",
              "        vertical-align: middle;\n",
              "    }\n",
              "\n",
              "    .dataframe tbody tr th {\n",
              "        vertical-align: top;\n",
              "    }\n",
              "\n",
              "    .dataframe thead th {\n",
              "        text-align: right;\n",
              "    }\n",
              "</style>\n",
              "<table border=\"1\" class=\"dataframe\">\n",
              "  <thead>\n",
              "    <tr style=\"text-align: right;\">\n",
              "      <th></th>\n",
              "      <th>MSE</th>\n",
              "      <th>RMSE</th>\n",
              "      <th>MAE</th>\n",
              "      <th>R-squared</th>\n",
              "      <th>Adj. R-squared</th>\n",
              "      <th>MAPE</th>\n",
              "    </tr>\n",
              "  </thead>\n",
              "  <tbody>\n",
              "    <tr>\n",
              "      <th>0</th>\n",
              "      <td>1.013963e+10</td>\n",
              "      <td>100695.751792</td>\n",
              "      <td>81040.873167</td>\n",
              "      <td>0.91884</td>\n",
              "      <td>0.918739</td>\n",
              "      <td>7.648836</td>\n",
              "    </tr>\n",
              "  </tbody>\n",
              "</table>\n",
              "</div>\n",
              "      <button class=\"colab-df-convert\" onclick=\"convertToInteractive('df-af7d3e67-b4c1-4228-946f-01e1d2ed38a6')\"\n",
              "              title=\"Convert this dataframe to an interactive table.\"\n",
              "              style=\"display:none;\">\n",
              "        \n",
              "  <svg xmlns=\"http://www.w3.org/2000/svg\" height=\"24px\"viewBox=\"0 0 24 24\"\n",
              "       width=\"24px\">\n",
              "    <path d=\"M0 0h24v24H0V0z\" fill=\"none\"/>\n",
              "    <path d=\"M18.56 5.44l.94 2.06.94-2.06 2.06-.94-2.06-.94-.94-2.06-.94 2.06-2.06.94zm-11 1L8.5 8.5l.94-2.06 2.06-.94-2.06-.94L8.5 2.5l-.94 2.06-2.06.94zm10 10l.94 2.06.94-2.06 2.06-.94-2.06-.94-.94-2.06-.94 2.06-2.06.94z\"/><path d=\"M17.41 7.96l-1.37-1.37c-.4-.4-.92-.59-1.43-.59-.52 0-1.04.2-1.43.59L10.3 9.45l-7.72 7.72c-.78.78-.78 2.05 0 2.83L4 21.41c.39.39.9.59 1.41.59.51 0 1.02-.2 1.41-.59l7.78-7.78 2.81-2.81c.8-.78.8-2.07 0-2.86zM5.41 20L4 18.59l7.72-7.72 1.47 1.35L5.41 20z\"/>\n",
              "  </svg>\n",
              "      </button>\n",
              "      \n",
              "  <style>\n",
              "    .colab-df-container {\n",
              "      display:flex;\n",
              "      flex-wrap:wrap;\n",
              "      gap: 12px;\n",
              "    }\n",
              "\n",
              "    .colab-df-convert {\n",
              "      background-color: #E8F0FE;\n",
              "      border: none;\n",
              "      border-radius: 50%;\n",
              "      cursor: pointer;\n",
              "      display: none;\n",
              "      fill: #1967D2;\n",
              "      height: 32px;\n",
              "      padding: 0 0 0 0;\n",
              "      width: 32px;\n",
              "    }\n",
              "\n",
              "    .colab-df-convert:hover {\n",
              "      background-color: #E2EBFA;\n",
              "      box-shadow: 0px 1px 2px rgba(60, 64, 67, 0.3), 0px 1px 3px 1px rgba(60, 64, 67, 0.15);\n",
              "      fill: #174EA6;\n",
              "    }\n",
              "\n",
              "    [theme=dark] .colab-df-convert {\n",
              "      background-color: #3B4455;\n",
              "      fill: #D2E3FC;\n",
              "    }\n",
              "\n",
              "    [theme=dark] .colab-df-convert:hover {\n",
              "      background-color: #434B5C;\n",
              "      box-shadow: 0px 1px 3px 1px rgba(0, 0, 0, 0.15);\n",
              "      filter: drop-shadow(0px 1px 2px rgba(0, 0, 0, 0.3));\n",
              "      fill: #FFFFFF;\n",
              "    }\n",
              "  </style>\n",
              "\n",
              "      <script>\n",
              "        const buttonEl =\n",
              "          document.querySelector('#df-af7d3e67-b4c1-4228-946f-01e1d2ed38a6 button.colab-df-convert');\n",
              "        buttonEl.style.display =\n",
              "          google.colab.kernel.accessAllowed ? 'block' : 'none';\n",
              "\n",
              "        async function convertToInteractive(key) {\n",
              "          const element = document.querySelector('#df-af7d3e67-b4c1-4228-946f-01e1d2ed38a6');\n",
              "          const dataTable =\n",
              "            await google.colab.kernel.invokeFunction('convertToInteractive',\n",
              "                                                     [key], {});\n",
              "          if (!dataTable) return;\n",
              "\n",
              "          const docLinkHtml = 'Like what you see? Visit the ' +\n",
              "            '<a target=\"_blank\" href=https://colab.research.google.com/notebooks/data_table.ipynb>data table notebook</a>'\n",
              "            + ' to learn more about interactive tables.';\n",
              "          element.innerHTML = '';\n",
              "          dataTable['output_type'] = 'display_data';\n",
              "          await google.colab.output.renderOutput(dataTable, element);\n",
              "          const docLink = document.createElement('div');\n",
              "          docLink.innerHTML = docLinkHtml;\n",
              "          element.appendChild(docLink);\n",
              "        }\n",
              "      </script>\n",
              "    </div>\n",
              "  </div>\n",
              "  "
            ]
          },
          "metadata": {},
          "execution_count": 40
        }
      ]
    },
    {
      "cell_type": "code",
      "source": [
        "# check performance ofLasso regression on test data\n",
        "lasso_test = model_performance_regression(lasso, x_test_sd,y_test)\n",
        "lasso_test"
      ],
      "metadata": {
        "colab": {
          "base_uri": "https://localhost:8080/",
          "height": 81
        },
        "id": "E_zMvQxzi2Hg",
        "outputId": "93f105ce-1f75-43ea-ee90-7989f07b8617"
      },
      "execution_count": null,
      "outputs": [
        {
          "output_type": "execute_result",
          "data": {
            "text/plain": [
              "            MSE           RMSE           MAE  R-squared  Adj. R-squared  \\\n",
              "0  1.054970e+10  102711.721734  82657.870796   0.914646        0.914216   \n",
              "\n",
              "       MAPE  \n",
              "0  7.480131  "
            ],
            "text/html": [
              "\n",
              "  <div id=\"df-e7fff06e-077d-4e67-8a2e-470ef2b7364f\">\n",
              "    <div class=\"colab-df-container\">\n",
              "      <div>\n",
              "<style scoped>\n",
              "    .dataframe tbody tr th:only-of-type {\n",
              "        vertical-align: middle;\n",
              "    }\n",
              "\n",
              "    .dataframe tbody tr th {\n",
              "        vertical-align: top;\n",
              "    }\n",
              "\n",
              "    .dataframe thead th {\n",
              "        text-align: right;\n",
              "    }\n",
              "</style>\n",
              "<table border=\"1\" class=\"dataframe\">\n",
              "  <thead>\n",
              "    <tr style=\"text-align: right;\">\n",
              "      <th></th>\n",
              "      <th>MSE</th>\n",
              "      <th>RMSE</th>\n",
              "      <th>MAE</th>\n",
              "      <th>R-squared</th>\n",
              "      <th>Adj. R-squared</th>\n",
              "      <th>MAPE</th>\n",
              "    </tr>\n",
              "  </thead>\n",
              "  <tbody>\n",
              "    <tr>\n",
              "      <th>0</th>\n",
              "      <td>1.054970e+10</td>\n",
              "      <td>102711.721734</td>\n",
              "      <td>82657.870796</td>\n",
              "      <td>0.914646</td>\n",
              "      <td>0.914216</td>\n",
              "      <td>7.480131</td>\n",
              "    </tr>\n",
              "  </tbody>\n",
              "</table>\n",
              "</div>\n",
              "      <button class=\"colab-df-convert\" onclick=\"convertToInteractive('df-e7fff06e-077d-4e67-8a2e-470ef2b7364f')\"\n",
              "              title=\"Convert this dataframe to an interactive table.\"\n",
              "              style=\"display:none;\">\n",
              "        \n",
              "  <svg xmlns=\"http://www.w3.org/2000/svg\" height=\"24px\"viewBox=\"0 0 24 24\"\n",
              "       width=\"24px\">\n",
              "    <path d=\"M0 0h24v24H0V0z\" fill=\"none\"/>\n",
              "    <path d=\"M18.56 5.44l.94 2.06.94-2.06 2.06-.94-2.06-.94-.94-2.06-.94 2.06-2.06.94zm-11 1L8.5 8.5l.94-2.06 2.06-.94-2.06-.94L8.5 2.5l-.94 2.06-2.06.94zm10 10l.94 2.06.94-2.06 2.06-.94-2.06-.94-.94-2.06-.94 2.06-2.06.94z\"/><path d=\"M17.41 7.96l-1.37-1.37c-.4-.4-.92-.59-1.43-.59-.52 0-1.04.2-1.43.59L10.3 9.45l-7.72 7.72c-.78.78-.78 2.05 0 2.83L4 21.41c.39.39.9.59 1.41.59.51 0 1.02-.2 1.41-.59l7.78-7.78 2.81-2.81c.8-.78.8-2.07 0-2.86zM5.41 20L4 18.59l7.72-7.72 1.47 1.35L5.41 20z\"/>\n",
              "  </svg>\n",
              "      </button>\n",
              "      \n",
              "  <style>\n",
              "    .colab-df-container {\n",
              "      display:flex;\n",
              "      flex-wrap:wrap;\n",
              "      gap: 12px;\n",
              "    }\n",
              "\n",
              "    .colab-df-convert {\n",
              "      background-color: #E8F0FE;\n",
              "      border: none;\n",
              "      border-radius: 50%;\n",
              "      cursor: pointer;\n",
              "      display: none;\n",
              "      fill: #1967D2;\n",
              "      height: 32px;\n",
              "      padding: 0 0 0 0;\n",
              "      width: 32px;\n",
              "    }\n",
              "\n",
              "    .colab-df-convert:hover {\n",
              "      background-color: #E2EBFA;\n",
              "      box-shadow: 0px 1px 2px rgba(60, 64, 67, 0.3), 0px 1px 3px 1px rgba(60, 64, 67, 0.15);\n",
              "      fill: #174EA6;\n",
              "    }\n",
              "\n",
              "    [theme=dark] .colab-df-convert {\n",
              "      background-color: #3B4455;\n",
              "      fill: #D2E3FC;\n",
              "    }\n",
              "\n",
              "    [theme=dark] .colab-df-convert:hover {\n",
              "      background-color: #434B5C;\n",
              "      box-shadow: 0px 1px 3px 1px rgba(0, 0, 0, 0.15);\n",
              "      filter: drop-shadow(0px 1px 2px rgba(0, 0, 0, 0.3));\n",
              "      fill: #FFFFFF;\n",
              "    }\n",
              "  </style>\n",
              "\n",
              "      <script>\n",
              "        const buttonEl =\n",
              "          document.querySelector('#df-e7fff06e-077d-4e67-8a2e-470ef2b7364f button.colab-df-convert');\n",
              "        buttonEl.style.display =\n",
              "          google.colab.kernel.accessAllowed ? 'block' : 'none';\n",
              "\n",
              "        async function convertToInteractive(key) {\n",
              "          const element = document.querySelector('#df-e7fff06e-077d-4e67-8a2e-470ef2b7364f');\n",
              "          const dataTable =\n",
              "            await google.colab.kernel.invokeFunction('convertToInteractive',\n",
              "                                                     [key], {});\n",
              "          if (!dataTable) return;\n",
              "\n",
              "          const docLinkHtml = 'Like what you see? Visit the ' +\n",
              "            '<a target=\"_blank\" href=https://colab.research.google.com/notebooks/data_table.ipynb>data table notebook</a>'\n",
              "            + ' to learn more about interactive tables.';\n",
              "          element.innerHTML = '';\n",
              "          dataTable['output_type'] = 'display_data';\n",
              "          await google.colab.output.renderOutput(dataTable, element);\n",
              "          const docLink = document.createElement('div');\n",
              "          docLink.innerHTML = docLinkHtml;\n",
              "          element.appendChild(docLink);\n",
              "        }\n",
              "      </script>\n",
              "    </div>\n",
              "  </div>\n",
              "  "
            ]
          },
          "metadata": {},
          "execution_count": 41
        }
      ]
    },
    {
      "cell_type": "code",
      "execution_count": null,
      "metadata": {
        "id": "ucTkcvrw2ZRh",
        "colab": {
          "base_uri": "https://localhost:8080/"
        },
        "outputId": "fffd732b-c4de-42a7-f001-a1cf46f0556a"
      },
      "outputs": [
        {
          "output_type": "stream",
          "name": "stdout",
          "text": [
            "            MSE           RMSE           MAE  R-squared  Adj. R-squared  \\\n",
            "0  1.013963e+10  100695.751773  81040.871378    0.91884        0.918739   \n",
            "\n",
            "       MAPE  \n",
            "0  7.648814  \n",
            "0.001\n",
            "            MSE           RMSE           MAE  R-squared  Adj. R-squared  \\\n",
            "0  1.013963e+10  100695.751773  81040.871188    0.91884        0.918739   \n",
            "\n",
            "       MAPE  \n",
            "0  7.648814  \n",
            "0.023111111111111114\n",
            "            MSE           RMSE           MAE  R-squared  Adj. R-squared  \\\n",
            "0  1.013963e+10  100695.751773  81040.871457    0.91884        0.918739   \n",
            "\n",
            "       MAPE  \n",
            "0  7.648815  \n",
            "0.045222222222222226\n",
            "            MSE           RMSE           MAE  R-squared  Adj. R-squared  \\\n",
            "0  1.013963e+10  100695.751773  81040.871727    0.91884        0.918739   \n",
            "\n",
            "       MAPE  \n",
            "0  7.648815  \n",
            "0.06733333333333334\n",
            "            MSE           RMSE           MAE  R-squared  Adj. R-squared  \\\n",
            "0  1.013963e+10  100695.751773  81040.870238    0.91884        0.918739   \n",
            "\n",
            "       MAPE  \n",
            "0  7.648815  \n",
            "0.08944444444444445\n",
            "            MSE           RMSE           MAE  R-squared  Adj. R-squared  \\\n",
            "0  1.013963e+10  100695.751773  81040.870507    0.91884        0.918739   \n",
            "\n",
            "       MAPE  \n",
            "0  7.648816  \n",
            "0.11155555555555556\n",
            "            MSE           RMSE           MAE  R-squared  Adj. R-squared  \\\n",
            "0  1.013963e+10  100695.751773  81040.870777    0.91884        0.918739   \n",
            "\n",
            "       MAPE  \n",
            "0  7.648816  \n",
            "0.13366666666666668\n",
            "            MSE           RMSE           MAE  R-squared  Adj. R-squared  \\\n",
            "0  1.013963e+10  100695.751773  81040.871046    0.91884        0.918739   \n",
            "\n",
            "       MAPE  \n",
            "0  7.648817  \n",
            "0.1557777777777778\n",
            "            MSE           RMSE           MAE  R-squared  Adj. R-squared  \\\n",
            "0  1.013963e+10  100695.751773  81040.871316    0.91884        0.918739   \n",
            "\n",
            "       MAPE  \n",
            "0  7.648818  \n",
            "0.1778888888888889\n",
            "            MSE           RMSE           MAE  R-squared  Adj. R-squared  \\\n",
            "0  1.013963e+10  100695.751774  81040.871585    0.91884        0.918739   \n",
            "\n",
            "       MAPE  \n",
            "0  7.648818  \n",
            "0.2\n"
          ]
        }
      ],
      "source": [
        "# Trying different values of alpha for Lasso regularization\n",
        "\n",
        "# Generating alpha values for Lasso regression\n",
        "alpha_values = np.linspace(0.001, 0.2, num=10)\n",
        "\n",
        "# Looping through different alpha values\n",
        "for alpha in alpha_values:\n",
        "    lasso = Lasso(random_state=0, alpha=alpha)  # Initializing Lasso regression model with current alpha value\n",
        "    lasso.fit(x_train_sd, y_train)  # Fitting the model on standardized training data\n",
        "    lasso_train = model_performance_regression(lasso, x_train_sd, y_train)  # Evaluating model performance on training data\n",
        "    print(lasso_train)  # Printing training performance metrics\n",
        "    print(alpha)  # Printing the current alpha value being evaluated\n"
      ]
    },
    {
      "cell_type": "markdown",
      "source": [
        "\n",
        "The results show the performance metrics (MSE, RMSE, MAE, R-squared, Adj. R-squared, MAPE) for a Lasso regression model trained with different alpha values ranging from 0.001 to 0.2. Interestingly, regardless of the alpha value chosen within this range, the performance metrics remain virtually unchanged, indicating that the Lasso regularization may not significantly affect the model's performance on this dataset. The R-squared and adjusted R-squared values are consistently around 0.9188, indicating that the model explains approximately 91.88% of the variance in the data. Similarly, the mean absolute percentage error (MAPE) remains stable around 7.6488 across different alpha values."
      ],
      "metadata": {
        "id": "R02isiIhUgpL"
      }
    },
    {
      "cell_type": "markdown",
      "source": [
        "### Model comparison\n",
        "\n",
        "\n",
        "- Overall, all three models (Linear Regression, Ridge Regression, and Lasso Regression) perform similarly in terms of their performance metrics on the test dataset, with minor differences observed in MSE, RMSE, and MAE. The R-squared values indicate that each model explains approximately 91.46% of the variance in the data. The mean absolute percentage error (MAPE) is around 7.48%, suggesting that, on average, the models' predictions deviate by approximately 7.48% from the actual prices.\n",
        "\n",
        "\n",
        "- Based on the provided performance metrics, all three models show similar performance on the test dataset. Therefore, the choice of the \"best\" model could depend on other factors such as interpretability, computational efficiency, or the specific goals of the analysis. It's recommended to consider these factors in the context of your project requirements to determine the most suitable model"
      ],
      "metadata": {
        "id": "Js_PiV66WBF1"
      }
    }
  ],
  "metadata": {
    "kernelspec": {
      "display_name": "Python 3",
      "language": "python",
      "name": "python3"
    },
    "language_info": {
      "codemirror_mode": {
        "name": "ipython",
        "version": 3
      },
      "file_extension": ".py",
      "mimetype": "text/x-python",
      "name": "python",
      "nbconvert_exporter": "python",
      "pygments_lexer": "ipython3",
      "version": "3.7.10"
    },
    "colab": {
      "provenance": []
    }
  },
  "nbformat": 4,
  "nbformat_minor": 0
}